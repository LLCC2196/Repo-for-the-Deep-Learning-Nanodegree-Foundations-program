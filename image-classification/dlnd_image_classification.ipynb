{
 "cells": [
  {
   "cell_type": "markdown",
   "metadata": {
    "collapsed": true,
    "deletable": true,
    "editable": true
   },
   "source": [
    "# Image Classification\n",
    "In this project, you'll classify images from the [CIFAR-10 dataset](https://www.cs.toronto.edu/~kriz/cifar.html).  The dataset consists of airplanes, dogs, cats, and other objects. You'll preprocess the images, then train a convolutional neural network on all the samples. The images need to be normalized and the labels need to be one-hot encoded.  You'll get to apply what you learned and build a convolutional, max pooling, dropout, and fully connected layers.  At the end, you'll get to see your neural network's predictions on the sample images.\n",
    "## Get the Data\n",
    "Run the following cell to download the [CIFAR-10 dataset for python](https://www.cs.toronto.edu/~kriz/cifar-10-python.tar.gz)."
   ]
  },
  {
   "cell_type": "code",
   "execution_count": 1,
   "metadata": {
    "collapsed": false,
    "deletable": true,
    "editable": true
   },
   "outputs": [
    {
     "name": "stdout",
     "output_type": "stream",
     "text": [
      "All files found!\n"
     ]
    }
   ],
   "source": [
    "\"\"\"\n",
    "DON'T MODIFY ANYTHING IN THIS CELL THAT IS BELOW THIS LINE\n",
    "\"\"\"\n",
    "from urllib.request import urlretrieve\n",
    "from os.path import isfile, isdir\n",
    "from tqdm import tqdm\n",
    "import problem_unittests as tests\n",
    "import tarfile\n",
    "\n",
    "cifar10_dataset_folder_path = 'cifar-10-batches-py'\n",
    "\n",
    "# Use Floyd's cifar-10 dataset if present\n",
    "floyd_cifar10_location = '/input/cifar-10/python.tar.gz'\n",
    "if isfile(floyd_cifar10_location):\n",
    "    tar_gz_path = floyd_cifar10_location\n",
    "else:\n",
    "    tar_gz_path = 'cifar-10-python.tar.gz'\n",
    "\n",
    "class DLProgress(tqdm):\n",
    "    last_block = 0\n",
    "\n",
    "    def hook(self, block_num=1, block_size=1, total_size=None):\n",
    "        self.total = total_size\n",
    "        self.update((block_num - self.last_block) * block_size)\n",
    "        self.last_block = block_num\n",
    "\n",
    "if not isfile(tar_gz_path):\n",
    "    with DLProgress(unit='B', unit_scale=True, miniters=1, desc='CIFAR-10 Dataset') as pbar:\n",
    "        urlretrieve(\n",
    "            'https://www.cs.toronto.edu/~kriz/cifar-10-python.tar.gz',\n",
    "            tar_gz_path,\n",
    "            pbar.hook)\n",
    "\n",
    "if not isdir(cifar10_dataset_folder_path):\n",
    "    with tarfile.open(tar_gz_path) as tar:\n",
    "        tar.extractall()\n",
    "        tar.close()\n",
    "\n",
    "\n",
    "tests.test_folder_path(cifar10_dataset_folder_path)"
   ]
  },
  {
   "cell_type": "markdown",
   "metadata": {
    "deletable": true,
    "editable": true
   },
   "source": [
    "## Explore the Data\n",
    "The dataset is broken into batches to prevent your machine from running out of memory.  The CIFAR-10 dataset consists of 5 batches, named `data_batch_1`, `data_batch_2`, etc.. Each batch contains the labels and images that are one of the following:\n",
    "* airplane\n",
    "* automobile\n",
    "* bird\n",
    "* cat\n",
    "* deer\n",
    "* dog\n",
    "* frog\n",
    "* horse\n",
    "* ship\n",
    "* truck\n",
    "\n",
    "Understanding a dataset is part of making predictions on the data.  Play around with the code cell below by changing the `batch_id` and `sample_id`. The `batch_id` is the id for a batch (1-5). The `sample_id` is the id for a image and label pair in the batch.\n",
    "\n",
    "Ask yourself \"What are all possible labels?\", \"What is the range of values for the image data?\", \"Are the labels in order or random?\".  Answers to questions like these will help you preprocess the data and end up with better predictions."
   ]
  },
  {
   "cell_type": "code",
   "execution_count": 2,
   "metadata": {
    "collapsed": false,
    "deletable": true,
    "editable": true
   },
   "outputs": [
    {
     "name": "stdout",
     "output_type": "stream",
     "text": [
      "\n",
      "Stats of batch 1:\n",
      "Samples: 10000\n",
      "Label Counts: {0: 1005, 1: 974, 2: 1032, 3: 1016, 4: 999, 5: 937, 6: 1030, 7: 1001, 8: 1025, 9: 981}\n",
      "First 20 Labels: [6, 9, 9, 4, 1, 1, 2, 7, 8, 3, 4, 7, 7, 2, 9, 9, 9, 3, 2, 6]\n",
      "\n",
      "Example of Image 5:\n",
      "Image - Min Value: 0 Max Value: 252\n",
      "Image - Shape: (32, 32, 3)\n",
      "Label - Label Id: 1 Name: automobile\n"
     ]
    },
    {
     "data": {
      "image/png": "[encoded data removed]",
      "text/plain": [
       "<matplotlib.figure.Figure at 0x7f7654181898>"
      ]
     },
     "metadata": {
      "image/png": {
       "height": 250,
       "width": 253
      }
     },
     "output_type": "display_data"
    }
   ],
   "source": [
    "%matplotlib inline\n",
    "%config InlineBackend.figure_format = 'retina'\n",
    "\n",
    "import helper\n",
    "import numpy as np\n",
    "\n",
    "# Explore the dataset\n",
    "batch_id = 1\n",
    "sample_id = 5\n",
    "helper.display_stats(cifar10_dataset_folder_path, batch_id, sample_id)"
   ]
  },
  {
   "cell_type": "markdown",
   "metadata": {
    "deletable": true,
    "editable": true
   },
   "source": [
    "## Implement Preprocess Functions\n",
    "### Normalize\n",
    "In the cell below, implement the `normalize` function to take in image data, `x`, and return it as a normalized Numpy array. The values should be in the range of 0 to 1, inclusive.  The return object should be the same shape as `x`."
   ]
  },
  {
   "cell_type": "code",
   "execution_count": 3,
   "metadata": {
    "collapsed": false,
    "deletable": true,
    "editable": true
   },
   "outputs": [
    {
     "name": "stdout",
     "output_type": "stream",
     "text": [
      "Tests Passed\n"
     ]
    }
   ],
   "source": [
    "def normalize(x):\n",
    "    \"\"\"\n",
    "    Normalize a list of sample image data in the range of 0 to 1\n",
    "    : x: List of image data.  The image shape is (32, 32, 3)\n",
    "    : return: Numpy array of normalize data\n",
    "    \"\"\"\n",
    "    # TODO: Implement Function\n",
    "    normalized = x/255\n",
    "    return normalized\n",
    "\n",
    "\n",
    "\"\"\"\n",
    "DON'T MODIFY ANYTHING IN THIS CELL THAT IS BELOW THIS LINE\n",
    "\"\"\"\n",
    "tests.test_normalize(normalize)"
   ]
  },
  {
   "cell_type": "markdown",
   "metadata": {
    "deletable": true,
    "editable": true
   },
   "source": [
    "### One-hot encode\n",
    "Just like the previous code cell, you'll be implementing a function for preprocessing.  This time, you'll implement the `one_hot_encode` function. The input, `x`, are a list of labels.  Implement the function to return the list of labels as One-Hot encoded Numpy array.  The possible values for labels are 0 to 9. The one-hot encoding function should return the same encoding for each value between each call to `one_hot_encode`.  Make sure to save the map of encodings outside the function.\n",
    "\n",
    "Hint: Don't reinvent the wheel."
   ]
  },
  {
   "cell_type": "code",
   "execution_count": 4,
   "metadata": {
    "collapsed": false,
    "deletable": true,
    "editable": true
   },
   "outputs": [
    {
     "name": "stdout",
     "output_type": "stream",
     "text": [
      "Tests Passed\n"
     ]
    }
   ],
   "source": [
    "def one_hot_encode(x):\n",
    "    \"\"\"\n",
    "    One hot encode a list of sample labels. Return a one-hot encoded vector for each label.\n",
    "    : x: List of sample Labels\n",
    "    : return: Numpy array of one-hot encoded labels\n",
    "    \"\"\"\n",
    "    # TODO: Implement Function\n",
    "    y = np.zeros((len(x), 10))\n",
    "    for i in range(len(x)):\n",
    "        y[i,x[i]] = 1\n",
    "    return y\n",
    "\n",
    "\n",
    "\"\"\"\n",
    "DON'T MODIFY ANYTHING IN THIS CELL THAT IS BELOW THIS LINE\n",
    "\"\"\"\n",
    "tests.test_one_hot_encode(one_hot_encode)"
   ]
  },
  {
   "cell_type": "markdown",
   "metadata": {
    "deletable": true,
    "editable": true
   },
   "source": [
    "### Randomize Data\n",
    "As you saw from exploring the data above, the order of the samples are randomized.  It doesn't hurt to randomize it again, but you don't need to for this dataset."
   ]
  },
  {
   "cell_type": "markdown",
   "metadata": {
    "deletable": true,
    "editable": true
   },
   "source": [
    "## Preprocess all the data and save it\n",
    "Running the code cell below will preprocess all the CIFAR-10 data and save it to file. The code below also uses 10% of the training data for validation."
   ]
  },
  {
   "cell_type": "code",
   "execution_count": 5,
   "metadata": {
    "collapsed": false,
    "deletable": true,
    "editable": true
   },
   "outputs": [],
   "source": [
    "\"\"\"\n",
    "DON'T MODIFY ANYTHING IN THIS CELL\n",
    "\"\"\"\n",
    "# Preprocess Training, Validation, and Testing Data\n",
    "helper.preprocess_and_save_data(cifar10_dataset_folder_path, normalize, one_hot_encode)"
   ]
  },
  {
   "cell_type": "markdown",
   "metadata": {
    "deletable": true,
    "editable": true
   },
   "source": [
    "# Check Point\n",
    "This is your first checkpoint.  If you ever decide to come back to this notebook or have to restart the notebook, you can start from here.  The preprocessed data has been saved to disk."
   ]
  },
  {
   "cell_type": "code",
   "execution_count": 6,
   "metadata": {
    "collapsed": true,
    "deletable": true,
    "editable": true
   },
   "outputs": [],
   "source": [
    "\"\"\"\n",
    "DON'T MODIFY ANYTHING IN THIS CELL\n",
    "\"\"\"\n",
    "import pickle\n",
    "import problem_unittests as tests\n",
    "import helper\n",
    "\n",
    "# Load the Preprocessed Validation data\n",
    "valid_features, valid_labels = pickle.load(open('preprocess_validation.p', mode='rb'))"
   ]
  },
  {
   "cell_type": "markdown",
   "metadata": {
    "deletable": true,
    "editable": true
   },
   "source": [
    "## Build the network\n",
    "For the neural network, you'll build each layer into a function.  Most of the code you've seen has been outside of functions. To test your code more thoroughly, we require that you put each layer in a function.  This allows us to give you better feedback and test for simple mistakes using our unittests before you submit your project.\n",
    "\n",
    ">**Note:** If you're finding it hard to dedicate enough time for this course each week, we've provided a small shortcut to this part of the project. In the next couple of problems, you'll have the option to use classes from the [TensorFlow Layers](https://www.tensorflow.org/api_docs/python/tf/layers) or [TensorFlow Layers (contrib)](https://www.tensorflow.org/api_guides/python/contrib.layers) packages to build each layer, except the layers you build in the \"Convolutional and Max Pooling Layer\" section.  TF Layers is similar to Keras's and TFLearn's abstraction to layers, so it's easy to pickup.\n",
    "\n",
    ">However, if you would like to get the most out of this course, try to solve all the problems _without_ using anything from the TF Layers packages. You **can** still use classes from other packages that happen to have the same name as ones you find in TF Layers! For example, instead of using the TF Layers version of the `conv2d` class, [tf.layers.conv2d](https://www.tensorflow.org/api_docs/python/tf/layers/conv2d), you would want to use the TF Neural Network version of `conv2d`, [tf.nn.conv2d](https://www.tensorflow.org/api_docs/python/tf/nn/conv2d). \n",
    "\n",
    "Let's begin!\n",
    "\n",
    "### Input\n",
    "The neural network needs to read the image data, one-hot encoded labels, and dropout keep probability. Implement the following functions\n",
    "* Implement `neural_net_image_input`\n",
    " * Return a [TF Placeholder](https://www.tensorflow.org/api_docs/python/tf/placeholder)\n",
    " * Set the shape using `image_shape` with batch size set to `None`.\n",
    " * Name the TensorFlow placeholder \"x\" using the TensorFlow `name` parameter in the [TF Placeholder](https://www.tensorflow.org/api_docs/python/tf/placeholder).\n",
    "* Implement `neural_net_label_input`\n",
    " * Return a [TF Placeholder](https://www.tensorflow.org/api_docs/python/tf/placeholder)\n",
    " * Set the shape using `n_classes` with batch size set to `None`.\n",
    " * Name the TensorFlow placeholder \"y\" using the TensorFlow `name` parameter in the [TF Placeholder](https://www.tensorflow.org/api_docs/python/tf/placeholder).\n",
    "* Implement `neural_net_keep_prob_input`\n",
    " * Return a [TF Placeholder](https://www.tensorflow.org/api_docs/python/tf/placeholder) for dropout keep probability.\n",
    " * Name the TensorFlow placeholder \"keep_prob\" using the TensorFlow `name` parameter in the [TF Placeholder](https://www.tensorflow.org/api_docs/python/tf/placeholder).\n",
    "\n",
    "These names will be used at the end of the project to load your saved model.\n",
    "\n",
    "Note: `None` for shapes in TensorFlow allow for a dynamic size."
   ]
  },
  {
   "cell_type": "code",
   "execution_count": 7,
   "metadata": {
    "collapsed": false,
    "deletable": true,
    "editable": true
   },
   "outputs": [
    {
     "name": "stdout",
     "output_type": "stream",
     "text": [
      "Image Input Tests Passed.\n",
      "Label Input Tests Passed.\n",
      "Keep Prob Tests Passed.\n"
     ]
    }
   ],
   "source": [
    "import tensorflow as tf\n",
    "\n",
    "def neural_net_image_input(image_shape):\n",
    "    \"\"\"\n",
    "    Return a Tensor for a batch of image input\n",
    "    : image_shape: Shape of the images\n",
    "    : return: Tensor for image input.\n",
    "    \"\"\"\n",
    "    # TODO: Implement Function\n",
    "    return tf.placeholder(tf.float32, [None] + list(image_shape), \"x\")\n",
    "\n",
    "\n",
    "def neural_net_label_input(n_classes):\n",
    "    \"\"\"\n",
    "    Return a Tensor for a batch of label input\n",
    "    : n_classes: Number of classes\n",
    "    : return: Tensor for label input.\n",
    "    \"\"\"\n",
    "    # TODO: Implement Function\n",
    "    return tf.placeholder(tf.float32, [None, n_classes], \"y\")\n",
    "\n",
    "\n",
    "def neural_net_keep_prob_input():\n",
    "    \"\"\"\n",
    "    Return a Tensor for keep probability\n",
    "    : return: Tensor for keep probability.\n",
    "    \"\"\"\n",
    "    # TODO: Implement Function\n",
    "    return tf.placeholder(tf.float32, None, \"keep_prob\")\n",
    "\n",
    "\n",
    "\"\"\"\n",
    "DON'T MODIFY ANYTHING IN THIS CELL THAT IS BELOW THIS LINE\n",
    "\"\"\"\n",
    "tf.reset_default_graph()\n",
    "tests.test_nn_image_inputs(neural_net_image_input)\n",
    "tests.test_nn_label_inputs(neural_net_label_input)\n",
    "tests.test_nn_keep_prob_inputs(neural_net_keep_prob_input)"
   ]
  },
  {
   "cell_type": "markdown",
   "metadata": {
    "deletable": true,
    "editable": true
   },
   "source": [
    "### Convolution and Max Pooling Layer\n",
    "Convolution layers have a lot of success with images. For this code cell, you should implement the function `conv2d_maxpool` to apply convolution then max pooling:\n",
    "* Create the weight and bias using `conv_ksize`, `conv_num_outputs` and the shape of `x_tensor`.\n",
    "* Apply a convolution to `x_tensor` using weight and `conv_strides`.\n",
    " * We recommend you use same padding, but you're welcome to use any padding.\n",
    "* Add bias\n",
    "* Add a nonlinear activation to the convolution.\n",
    "* Apply Max Pooling using `pool_ksize` and `pool_strides`.\n",
    " * We recommend you use same padding, but you're welcome to use any padding.\n",
    "\n",
    "**Note:** You **can't** use [TensorFlow Layers](https://www.tensorflow.org/api_docs/python/tf/layers) or [TensorFlow Layers (contrib)](https://www.tensorflow.org/api_guides/python/contrib.layers) for **this** layer, but you can still use TensorFlow's [Neural Network](https://www.tensorflow.org/api_docs/python/tf/nn) package. You may still use the shortcut option for all the **other** layers."
   ]
  },
  {
   "cell_type": "code",
   "execution_count": 8,
   "metadata": {
    "collapsed": false,
    "deletable": true,
    "editable": true
   },
   "outputs": [
    {
     "name": "stdout",
     "output_type": "stream",
     "text": [
      "Tests Passed\n"
     ]
    }
   ],
   "source": [
    "def conv2d_maxpool(x_tensor, conv_num_outputs, conv_ksize, conv_strides, pool_ksize, pool_strides):\n",
    "    \"\"\"\n",
    "    Apply convolution then max pooling to x_tensor\n",
    "    :param x_tensor: TensorFlow Tensor\n",
    "    :param conv_num_outputs: Number of outputs for the convolutional layer\n",
    "    :param conv_ksize: kernal size 2-D Tuple for the convolutional layer\n",
    "    :param conv_strides: Stride 2-D Tuple for convolution\n",
    "    :param pool_ksize: kernal size 2-D Tuple for pool\n",
    "    :param pool_strides: Stride 2-D Tuple for pool\n",
    "    : return: A tensor that represents convolution and max pooling of x_tensor\n",
    "    \"\"\"\n",
    "    # TODO: Implement Function\n",
    "    weight = tf.Variable(tf.truncated_normal([conv_ksize[0], conv_ksize[1], int(x_tensor.shape[3]), conv_num_outputs]))\n",
    "    bias = tf.Variable(tf.zeros(conv_num_outputs))\n",
    "    conv_layer = tf.nn.conv2d(x_tensor, weight, strides=[1, conv_strides[0], conv_strides[1], 1], padding='SAME')\n",
    "    conv_layer = tf.nn.bias_add(conv_layer,bias)\n",
    "    conv_layer = tf.nn.relu(conv_layer)\n",
    "    return tf.nn.max_pool(conv_layer, \n",
    "                          ksize=[1, pool_ksize[0], pool_ksize[1], 1], \n",
    "                          strides=[1, pool_strides[0], pool_strides[1], 1],\n",
    "                          padding='SAME')\n",
    "\n",
    "\"\"\"\n",
    "DON'T MODIFY ANYTHING IN THIS CELL THAT IS BELOW THIS LINE\n",
    "\"\"\"\n",
    "tests.test_con_pool(conv2d_maxpool)"
   ]
  },
  {
   "cell_type": "markdown",
   "metadata": {
    "deletable": true,
    "editable": true
   },
   "source": [
    "### Flatten Layer\n",
    "Implement the `flatten` function to change the dimension of `x_tensor` from a 4-D tensor to a 2-D tensor.  The output should be the shape (*Batch Size*, *Flattened Image Size*). Shortcut option: you can use classes from the [TensorFlow Layers](https://www.tensorflow.org/api_docs/python/tf/layers) or [TensorFlow Layers (contrib)](https://www.tensorflow.org/api_guides/python/contrib.layers) packages for this layer. For more of a challenge, only use other TensorFlow packages."
   ]
  },
  {
   "cell_type": "code",
   "execution_count": 9,
   "metadata": {
    "collapsed": false,
    "deletable": true,
    "editable": true
   },
   "outputs": [
    {
     "name": "stdout",
     "output_type": "stream",
     "text": [
      "Tests Passed\n"
     ]
    }
   ],
   "source": [
    "from numpy import prod\n",
    "def flatten(x_tensor):\n",
    "    \"\"\"\n",
    "    Flatten x_tensor to (Batch Size, Flattened Image Size)\n",
    "    : x_tensor: A tensor of size (Batch Size, ...), where ... are the image dimensions.\n",
    "    : return: A tensor of size (Batch Size, Flattened Image Size).\n",
    "    \"\"\"\n",
    "    # TODO: Implement Function\n",
    "    dimension = x_tensor.get_shape().as_list()    \n",
    "    return tf.reshape(x_tensor,[-1,prod(dimension[1:])])\n",
    "\n",
    "\"\"\"\n",
    "DON'T MODIFY ANYTHING IN THIS CELL THAT IS BELOW THIS LINE\n",
    "\"\"\"\n",
    "tests.test_flatten(flatten)"
   ]
  },
  {
   "cell_type": "markdown",
   "metadata": {
    "deletable": true,
    "editable": true
   },
   "source": [
    "### Fully-Connected Layer\n",
    "Implement the `fully_conn` function to apply a fully connected layer to `x_tensor` with the shape (*Batch Size*, *num_outputs*). Shortcut option: you can use classes from the [TensorFlow Layers](https://www.tensorflow.org/api_docs/python/tf/layers) or [TensorFlow Layers (contrib)](https://www.tensorflow.org/api_guides/python/contrib.layers) packages for this layer. For more of a challenge, only use other TensorFlow packages."
   ]
  },
  {
   "cell_type": "code",
   "execution_count": 10,
   "metadata": {
    "collapsed": false,
    "deletable": true,
    "editable": true
   },
   "outputs": [
    {
     "name": "stdout",
     "output_type": "stream",
     "text": [
      "Tests Passed\n"
     ]
    }
   ],
   "source": [
    "def fully_conn(x_tensor, num_outputs):\n",
    "    \"\"\"\n",
    "    Apply a fully connected layer to x_tensor using weight and bias\n",
    "    : x_tensor: A 2-D tensor where the first dimension is batch size.\n",
    "    : num_outputs: The number of output that the new tensor should be.\n",
    "    : return: A 2-D tensor where the second dimension is num_outputs.\n",
    "    \"\"\"\n",
    "    # TODO: Implement Function\n",
    "    dimension = x_tensor.get_shape().as_list()\n",
    "    shape = list( (dimension[-1],) + (num_outputs,))\n",
    "    #print(shape)\n",
    "    weight = tf.Variable(tf.truncated_normal(shape,0,0.1))\n",
    "    bias = tf.Variable(tf.zeros(num_outputs))\n",
    "    return tf.nn.relu(tf.add(tf.matmul(x_tensor,weight), bias))\n",
    "\n",
    "\"\"\"\n",
    "DON'T MODIFY ANYTHING IN THIS CELL THAT IS BELOW THIS LINE\n",
    "\"\"\"\n",
    "tests.test_fully_conn(fully_conn)"
   ]
  },
  {
   "cell_type": "markdown",
   "metadata": {
    "deletable": true,
    "editable": true
   },
   "source": [
    "### Output Layer\n",
    "Implement the `output` function to apply a fully connected layer to `x_tensor` with the shape (*Batch Size*, *num_outputs*). Shortcut option: you can use classes from the [TensorFlow Layers](https://www.tensorflow.org/api_docs/python/tf/layers) or [TensorFlow Layers (contrib)](https://www.tensorflow.org/api_guides/python/contrib.layers) packages for this layer. For more of a challenge, only use other TensorFlow packages.\n",
    "\n",
    "**Note:** Activation, softmax, or cross entropy should **not** be applied to this."
   ]
  },
  {
   "cell_type": "code",
   "execution_count": 11,
   "metadata": {
    "collapsed": false,
    "deletable": true,
    "editable": true
   },
   "outputs": [
    {
     "name": "stdout",
     "output_type": "stream",
     "text": [
      "Tests Passed\n"
     ]
    }
   ],
   "source": [
    "def output(x_tensor, num_outputs):\n",
    "    \"\"\"\n",
    "    Apply a output layer to x_tensor using weight and bias\n",
    "    : x_tensor: A 2-D tensor where the first dimension is batch size.\n",
    "    : num_outputs: The number of output that the new tensor should be.\n",
    "    : return: A 2-D tensor where the second dimension is num_outputs.\n",
    "    \"\"\"\n",
    "    # TODO: Implement Function\n",
    "    dimension = x_tensor.get_shape().as_list()\n",
    "    shape = list( (dimension[-1],) + (num_outputs,))\n",
    "    weight = tf.Variable(tf.truncated_normal(shape,0,0.01))\n",
    "    bias = tf.Variable(tf.zeros(num_outputs))\n",
    "    return tf.add(tf.matmul(x_tensor,weight), bias)\n",
    "\n",
    "\n",
    "\"\"\"\n",
    "DON'T MODIFY ANYTHING IN THIS CELL THAT IS BELOW THIS LINE\n",
    "\"\"\"\n",
    "tests.test_output(output)"
   ]
  },
  {
   "cell_type": "markdown",
   "metadata": {
    "deletable": true,
    "editable": true
   },
   "source": [
    "### Create Convolutional Model\n",
    "Implement the function `conv_net` to create a convolutional neural network model. The function takes in a batch of images, `x`, and outputs logits.  Use the layers you created above to create this model:\n",
    "\n",
    "* Apply 1, 2, or 3 Convolution and Max Pool layers\n",
    "* Apply a Flatten Layer\n",
    "* Apply 1, 2, or 3 Fully Connected Layers\n",
    "* Apply an Output Layer\n",
    "* Return the output\n",
    "* Apply [TensorFlow's Dropout](https://www.tensorflow.org/api_docs/python/tf/nn/dropout) to one or more layers in the model using `keep_prob`. "
   ]
  },
  {
   "cell_type": "code",
   "execution_count": 48,
   "metadata": {
    "collapsed": false,
    "deletable": true,
    "editable": true
   },
   "outputs": [
    {
     "name": "stdout",
     "output_type": "stream",
     "text": [
      "Neural Network Built!\n"
     ]
    }
   ],
   "source": [
    "def conv_net(x, keep_prob):\n",
    "    \"\"\"\n",
    "    Create a convolutional neural network model\n",
    "    : x: Placeholder tensor that holds image data.\n",
    "    : keep_prob: Placeholder tensor that hold dropout keep probability.\n",
    "    : return: Tensor that represents logits\n",
    "    \"\"\"\n",
    "    # TODO: Apply 1, 2, or 3 Convolution and Max Pool layers\n",
    "    #    Play around with different number of outputs, kernel size and stride\n",
    "    # Function Definition from Above:\n",
    "    #    conv2d_maxpool(x_tensor, conv_num_outputs, conv_ksize, conv_strides, pool_ksize, pool_strides)\n",
    "    model = conv2d_maxpool(x, conv_num_outputs=18, conv_ksize=(4,4), conv_strides=(1,1), \n",
    "                           pool_ksize=(8,8), pool_strides=(1,1))\n",
    "    model = conv2d_maxpool(model, conv_num_outputs=12, conv_ksize=(4,4), conv_strides=(1,1), \n",
    "    pool_ksize=(4,4), pool_strides=(1,1))\n",
    "    model = tf.nn.dropout(model, keep_prob)\n",
    "    \n",
    "    # TODO: Apply a Flatten Layer\n",
    "    # Function Definition from Above:\n",
    "    #   flatten(x_tensor)\n",
    "    model = flatten(model)\n",
    "\n",
    "    # TODO: Apply 1, 2, or 3 Fully Connected Layers\n",
    "    #    Play around with different number of outputs\n",
    "    # Function Definition from Above:\n",
    "    #   fully_conn(x_tensor, num_outputs)\n",
    "    model = fully_conn(model,384)\n",
    "    model = fully_conn(model,200)\n",
    "    model = tf.nn.dropout(model, keep_prob)\n",
    "    \n",
    "    # TODO: Apply an Output Layer\n",
    "    #    Set this to the number of classes\n",
    "    # Function Definition from Above:\n",
    "    #   output(x_tensor, num_outputs)\n",
    "    model = output(model,10)\n",
    "    \n",
    "    # TODO: return output\n",
    "    return model\n",
    "\n",
    "\n",
    "\"\"\"\n",
    "DON'T MODIFY ANYTHING IN THIS CELL THAT IS BELOW THIS LINE\n",
    "\"\"\"\n",
    "\n",
    "##############################\n",
    "## Build the Neural Network ##\n",
    "##############################\n",
    "\n",
    "# Remove previous weights, bias, inputs, etc..\n",
    "tf.reset_default_graph()\n",
    "\n",
    "# Inputs\n",
    "x = neural_net_image_input((32, 32, 3))\n",
    "y = neural_net_label_input(10)\n",
    "keep_prob = neural_net_keep_prob_input()\n",
    "\n",
    "# Model\n",
    "logits = conv_net(x, keep_prob)\n",
    "\n",
    "# Name logits Tensor, so that is can be loaded from disk after training\n",
    "logits = tf.identity(logits, name='logits')\n",
    "\n",
    "# Loss and Optimizer\n",
    "cost = tf.reduce_mean(tf.nn.softmax_cross_entropy_with_logits(logits=logits, labels=y))\n",
    "optimizer = tf.train.AdamOptimizer().minimize(cost)\n",
    "\n",
    "# Accuracy\n",
    "correct_pred = tf.equal(tf.argmax(logits, 1), tf.argmax(y, 1))\n",
    "accuracy = tf.reduce_mean(tf.cast(correct_pred, tf.float32), name='accuracy')\n",
    "\n",
    "tests.test_conv_net(conv_net)"
   ]
  },
  {
   "cell_type": "markdown",
   "metadata": {
    "deletable": true,
    "editable": true
   },
   "source": [
    "## Train the Neural Network\n",
    "### Single Optimization\n",
    "Implement the function `train_neural_network` to do a single optimization.  The optimization should use `optimizer` to optimize in `session` with a `feed_dict` of the following:\n",
    "* `x` for image input\n",
    "* `y` for labels\n",
    "* `keep_prob` for keep probability for dropout\n",
    "\n",
    "This function will be called for each batch, so `tf.global_variables_initializer()` has already been called.\n",
    "\n",
    "Note: Nothing needs to be returned. This function is only optimizing the neural network."
   ]
  },
  {
   "cell_type": "code",
   "execution_count": 49,
   "metadata": {
    "collapsed": false,
    "deletable": true,
    "editable": true
   },
   "outputs": [
    {
     "name": "stdout",
     "output_type": "stream",
     "text": [
      "Tests Passed\n"
     ]
    }
   ],
   "source": [
    "def train_neural_network(session, optimizer, keep_probability, feature_batch, label_batch):\n",
    "    \"\"\"\n",
    "    Optimize the session on a batch of images and labels\n",
    "    : session: Current TensorFlow session\n",
    "    : optimizer: TensorFlow optimizer function\n",
    "    : keep_probability: keep probability\n",
    "    : feature_batch: Batch of Numpy image data\n",
    "    : label_batch: Batch of Numpy label data\n",
    "    \"\"\"\n",
    "    # TODO: Implement Function\n",
    "    session.run(optimizer, feed_dict={x:feature_batch, y:label_batch, keep_prob:keep_probability})\n",
    "\n",
    "\n",
    "\"\"\"\n",
    "DON'T MODIFY ANYTHING IN THIS CELL THAT IS BELOW THIS LINE\n",
    "\"\"\"\n",
    "tests.test_train_nn(train_neural_network)"
   ]
  },
  {
   "cell_type": "markdown",
   "metadata": {
    "deletable": true,
    "editable": true
   },
   "source": [
    "### Show Stats\n",
    "Implement the function `print_stats` to print loss and validation accuracy.  Use the global variables `valid_features` and `valid_labels` to calculate validation accuracy.  Use a keep probability of `1.0` to calculate the loss and validation accuracy."
   ]
  },
  {
   "cell_type": "code",
   "execution_count": 50,
   "metadata": {
    "collapsed": false,
    "deletable": true,
    "editable": true
   },
   "outputs": [],
   "source": [
    "def print_stats(session, feature_batch, label_batch, cost, accuracy):\n",
    "    \"\"\"\n",
    "    Print information about loss and validation accuracy\n",
    "    : session: Current TensorFlow session\n",
    "    : feature_batch: Batch of Numpy image data\n",
    "    : label_batch: Batch of Numpy label data\n",
    "    : cost: TensorFlow cost function\n",
    "    : accuracy: TensorFlow accuracy function\n",
    "    \"\"\"\n",
    "    # TODO: Implement Function\n",
    "    loss = session.run(cost, feed_dict={x:feature_batch, y:label_batch, keep_prob:1.0})\n",
    "    valid_acc = sess.run(accuracy, feed_dict={\n",
    "                x: valid_features,\n",
    "                y: valid_labels,\n",
    "                keep_prob: 1.})\n",
    "    print('Loss: {:>10.4f} Validation Accuracy: {:.6f}'.format(\n",
    "                loss,\n",
    "                valid_acc))"
   ]
  },
  {
   "cell_type": "markdown",
   "metadata": {
    "deletable": true,
    "editable": true
   },
   "source": [
    "### Hyperparameters\n",
    "Tune the following parameters:\n",
    "* Set `epochs` to the number of iterations until the network stops learning or start overfitting\n",
    "* Set `batch_size` to the highest number that your machine has memory for.  Most people set them to common sizes of memory:\n",
    " * 64\n",
    " * 128\n",
    " * 256\n",
    " * ...\n",
    "* Set `keep_probability` to the probability of keeping a node using dropout"
   ]
  },
  {
   "cell_type": "code",
   "execution_count": 51,
   "metadata": {
    "collapsed": true,
    "deletable": true,
    "editable": true
   },
   "outputs": [],
   "source": [
    "# TODO: Tune Parameters\n",
    "epochs = 100\n",
    "batch_size = 256\n",
    "keep_probability = 0.7"
   ]
  },
  {
   "cell_type": "markdown",
   "metadata": {
    "deletable": true,
    "editable": true
   },
   "source": [
    "### Train on a Single CIFAR-10 Batch\n",
    "Instead of training the neural network on all the CIFAR-10 batches of data, let's use a single batch. This should save time while you iterate on the model to get a better accuracy.  Once the final validation accuracy is 50% or greater, run the model on all the data in the next section."
   ]
  },
  {
   "cell_type": "code",
   "execution_count": 52,
   "metadata": {
    "collapsed": false,
    "deletable": true,
    "editable": true
   },
   "outputs": [
    {
     "name": "stdout",
     "output_type": "stream",
     "text": [
      "Checking the Training on a Single Batch...\n",
      "Epoch  1, CIFAR-10 Batch 1:  Loss:     2.3025 Validation Accuracy: 0.095200\n",
      "Epoch  2, CIFAR-10 Batch 1:  Loss:     2.3026 Validation Accuracy: 0.094600\n",
      "Epoch  3, CIFAR-10 Batch 1:  Loss:     2.3025 Validation Accuracy: 0.099800\n",
      "Epoch  4, CIFAR-10 Batch 1:  Loss:     2.3024 Validation Accuracy: 0.102000\n",
      "Epoch  5, CIFAR-10 Batch 1:  Loss:     2.3021 Validation Accuracy: 0.108200\n",
      "Epoch  6, CIFAR-10 Batch 1:  Loss:     2.2379 Validation Accuracy: 0.171400\n",
      "Epoch  7, CIFAR-10 Batch 1:  Loss:     2.2263 Validation Accuracy: 0.187400\n",
      "Epoch  8, CIFAR-10 Batch 1:  Loss:     2.2142 Validation Accuracy: 0.188800\n",
      "Epoch  9, CIFAR-10 Batch 1:  Loss:     2.2186 Validation Accuracy: 0.184600\n",
      "Epoch 10, CIFAR-10 Batch 1:  Loss:     2.2104 Validation Accuracy: 0.188600\n",
      "Epoch 11, CIFAR-10 Batch 1:  Loss:     2.2199 Validation Accuracy: 0.175000\n",
      "Epoch 12, CIFAR-10 Batch 1:  Loss:     2.1947 Validation Accuracy: 0.189400\n",
      "Epoch 13, CIFAR-10 Batch 1:  Loss:     2.1750 Validation Accuracy: 0.170200\n",
      "Epoch 14, CIFAR-10 Batch 1:  Loss:     2.1784 Validation Accuracy: 0.185400\n",
      "Epoch 15, CIFAR-10 Batch 1:  Loss:     2.1761 Validation Accuracy: 0.182200\n",
      "Epoch 16, CIFAR-10 Batch 1:  Loss:     2.1556 Validation Accuracy: 0.173600\n",
      "Epoch 17, CIFAR-10 Batch 1:  Loss:     2.1130 Validation Accuracy: 0.194200\n",
      "Epoch 18, CIFAR-10 Batch 1:  Loss:     2.1566 Validation Accuracy: 0.188600\n",
      "Epoch 19, CIFAR-10 Batch 1:  Loss:     2.1231 Validation Accuracy: 0.199000\n",
      "Epoch 20, CIFAR-10 Batch 1:  Loss:     2.1015 Validation Accuracy: 0.181200\n",
      "Epoch 21, CIFAR-10 Batch 1:  Loss:     2.1094 Validation Accuracy: 0.186200\n",
      "Epoch 22, CIFAR-10 Batch 1:  Loss:     2.0969 Validation Accuracy: 0.191200\n",
      "Epoch 23, CIFAR-10 Batch 1:  Loss:     2.1064 Validation Accuracy: 0.175000\n",
      "Epoch 24, CIFAR-10 Batch 1:  Loss:     2.0763 Validation Accuracy: 0.183200\n",
      "Epoch 25, CIFAR-10 Batch 1:  Loss:     2.0232 Validation Accuracy: 0.206600\n",
      "Epoch 26, CIFAR-10 Batch 1:  Loss:     2.0093 Validation Accuracy: 0.227000\n",
      "Epoch 27, CIFAR-10 Batch 1:  Loss:     2.0024 Validation Accuracy: 0.250600\n",
      "Epoch 28, CIFAR-10 Batch 1:  Loss:     1.9901 Validation Accuracy: 0.238600\n",
      "Epoch 29, CIFAR-10 Batch 1:  Loss:     1.9143 Validation Accuracy: 0.244200\n",
      "Epoch 30, CIFAR-10 Batch 1:  Loss:     1.8878 Validation Accuracy: 0.253200\n",
      "Epoch 31, CIFAR-10 Batch 1:  Loss:     1.8487 Validation Accuracy: 0.255400\n",
      "Epoch 32, CIFAR-10 Batch 1:  Loss:     1.8474 Validation Accuracy: 0.257600\n",
      "Epoch 33, CIFAR-10 Batch 1:  Loss:     1.8272 Validation Accuracy: 0.269600\n",
      "Epoch 34, CIFAR-10 Batch 1:  Loss:     1.7916 Validation Accuracy: 0.276200\n",
      "Epoch 35, CIFAR-10 Batch 1:  Loss:     1.8217 Validation Accuracy: 0.277400\n",
      "Epoch 36, CIFAR-10 Batch 1:  Loss:     1.8271 Validation Accuracy: 0.286400\n",
      "Epoch 37, CIFAR-10 Batch 1:  Loss:     1.7215 Validation Accuracy: 0.325200\n",
      "Epoch 38, CIFAR-10 Batch 1:  Loss:     1.7302 Validation Accuracy: 0.280600\n",
      "Epoch 39, CIFAR-10 Batch 1:  Loss:     1.7672 Validation Accuracy: 0.289600\n",
      "Epoch 40, CIFAR-10 Batch 1:  Loss:     1.6502 Validation Accuracy: 0.320200\n",
      "Epoch 41, CIFAR-10 Batch 1:  Loss:     1.6867 Validation Accuracy: 0.321000\n",
      "Epoch 42, CIFAR-10 Batch 1:  Loss:     1.6816 Validation Accuracy: 0.283400\n",
      "Epoch 43, CIFAR-10 Batch 1:  Loss:     1.5680 Validation Accuracy: 0.352600\n",
      "Epoch 44, CIFAR-10 Batch 1:  Loss:     1.5619 Validation Accuracy: 0.349600\n",
      "Epoch 45, CIFAR-10 Batch 1:  Loss:     1.5808 Validation Accuracy: 0.350800\n",
      "Epoch 46, CIFAR-10 Batch 1:  Loss:     1.4446 Validation Accuracy: 0.341000\n",
      "Epoch 47, CIFAR-10 Batch 1:  Loss:     1.4731 Validation Accuracy: 0.351800\n",
      "Epoch 48, CIFAR-10 Batch 1:  Loss:     1.5201 Validation Accuracy: 0.380600\n",
      "Epoch 49, CIFAR-10 Batch 1:  Loss:     1.4271 Validation Accuracy: 0.386800\n",
      "Epoch 50, CIFAR-10 Batch 1:  Loss:     1.3136 Validation Accuracy: 0.387800\n",
      "Epoch 51, CIFAR-10 Batch 1:  Loss:     1.2801 Validation Accuracy: 0.411400\n",
      "Epoch 52, CIFAR-10 Batch 1:  Loss:     1.2469 Validation Accuracy: 0.409800\n",
      "Epoch 53, CIFAR-10 Batch 1:  Loss:     1.2265 Validation Accuracy: 0.394800\n",
      "Epoch 54, CIFAR-10 Batch 1:  Loss:     1.1701 Validation Accuracy: 0.413800\n",
      "Epoch 55, CIFAR-10 Batch 1:  Loss:     1.0697 Validation Accuracy: 0.427800\n",
      "Epoch 56, CIFAR-10 Batch 1:  Loss:     0.9786 Validation Accuracy: 0.448800\n",
      "Epoch 57, CIFAR-10 Batch 1:  Loss:     0.9813 Validation Accuracy: 0.437400\n",
      "Epoch 58, CIFAR-10 Batch 1:  Loss:     0.9126 Validation Accuracy: 0.449200\n",
      "Epoch 59, CIFAR-10 Batch 1:  Loss:     0.9284 Validation Accuracy: 0.448400\n",
      "Epoch 60, CIFAR-10 Batch 1:  Loss:     0.8297 Validation Accuracy: 0.477800\n",
      "Epoch 61, CIFAR-10 Batch 1:  Loss:     0.9237 Validation Accuracy: 0.469800\n",
      "Epoch 62, CIFAR-10 Batch 1:  Loss:     0.8088 Validation Accuracy: 0.471600\n",
      "Epoch 63, CIFAR-10 Batch 1:  Loss:     0.7858 Validation Accuracy: 0.484000\n",
      "Epoch 64, CIFAR-10 Batch 1:  Loss:     0.7682 Validation Accuracy: 0.481400\n",
      "Epoch 65, CIFAR-10 Batch 1:  Loss:     0.7174 Validation Accuracy: 0.478000\n",
      "Epoch 66, CIFAR-10 Batch 1:  Loss:     0.7364 Validation Accuracy: 0.482600\n",
      "Epoch 67, CIFAR-10 Batch 1:  Loss:     0.6655 Validation Accuracy: 0.481600\n",
      "Epoch 68, CIFAR-10 Batch 1:  Loss:     0.6140 Validation Accuracy: 0.492000\n",
      "Epoch 69, CIFAR-10 Batch 1:  Loss:     0.6731 Validation Accuracy: 0.490200\n",
      "Epoch 70, CIFAR-10 Batch 1:  Loss:     0.6182 Validation Accuracy: 0.497600\n",
      "Epoch 71, CIFAR-10 Batch 1:  Loss:     0.5489 Validation Accuracy: 0.506800\n",
      "Epoch 72, CIFAR-10 Batch 1:  Loss:     0.5173 Validation Accuracy: 0.497800\n",
      "Epoch 73, CIFAR-10 Batch 1:  Loss:     0.5399 Validation Accuracy: 0.490400\n",
      "Epoch 74, CIFAR-10 Batch 1:  Loss:     0.5012 Validation Accuracy: 0.496600\n",
      "Epoch 75, CIFAR-10 Batch 1:  Loss:     0.4692 Validation Accuracy: 0.492600\n",
      "Epoch 76, CIFAR-10 Batch 1:  Loss:     0.4436 Validation Accuracy: 0.495600\n",
      "Epoch 77, CIFAR-10 Batch 1:  Loss:     0.4596 Validation Accuracy: 0.487200\n",
      "Epoch 78, CIFAR-10 Batch 1:  Loss:     0.3962 Validation Accuracy: 0.508200\n",
      "Epoch 79, CIFAR-10 Batch 1:  Loss:     0.3406 Validation Accuracy: 0.506200\n",
      "Epoch 80, CIFAR-10 Batch 1:  Loss:     0.3218 Validation Accuracy: 0.504800\n",
      "Epoch 81, CIFAR-10 Batch 1:  Loss:     0.3192 Validation Accuracy: 0.505800\n",
      "Epoch 82, CIFAR-10 Batch 1:  Loss:     0.3181 Validation Accuracy: 0.505200\n",
      "Epoch 83, CIFAR-10 Batch 1:  Loss:     0.2752 Validation Accuracy: 0.504800\n",
      "Epoch 84, CIFAR-10 Batch 1:  Loss:     0.2478 Validation Accuracy: 0.499200\n",
      "Epoch 85, CIFAR-10 Batch 1:  Loss:     0.2669 Validation Accuracy: 0.509800\n",
      "Epoch 86, CIFAR-10 Batch 1:  Loss:     0.2251 Validation Accuracy: 0.509400\n",
      "Epoch 87, CIFAR-10 Batch 1:  Loss:     0.1873 Validation Accuracy: 0.511600\n",
      "Epoch 88, CIFAR-10 Batch 1:  Loss:     0.2062 Validation Accuracy: 0.511200\n",
      "Epoch 89, CIFAR-10 Batch 1:  Loss:     0.2099 Validation Accuracy: 0.512400\n",
      "Epoch 90, CIFAR-10 Batch 1:  Loss:     0.2099 Validation Accuracy: 0.499600\n",
      "Epoch 91, CIFAR-10 Batch 1:  Loss:     0.1709 Validation Accuracy: 0.509400\n",
      "Epoch 92, CIFAR-10 Batch 1:  Loss:     0.1964 Validation Accuracy: 0.508000\n",
      "Epoch 93, CIFAR-10 Batch 1:  Loss:     0.1689 Validation Accuracy: 0.517800\n",
      "Epoch 94, CIFAR-10 Batch 1:  Loss:     0.1625 Validation Accuracy: 0.507200\n",
      "Epoch 95, CIFAR-10 Batch 1:  Loss:     0.1503 Validation Accuracy: 0.514200\n",
      "Epoch 96, CIFAR-10 Batch 1:  Loss:     0.1277 Validation Accuracy: 0.514800\n",
      "Epoch 97, CIFAR-10 Batch 1:  Loss:     0.1183 Validation Accuracy: 0.507600\n",
      "Epoch 98, CIFAR-10 Batch 1:  Loss:     0.0995 Validation Accuracy: 0.513600\n",
      "Epoch 99, CIFAR-10 Batch 1:  Loss:     0.0982 Validation Accuracy: 0.508800\n",
      "Epoch 100, CIFAR-10 Batch 1:  Loss:     0.1086 Validation Accuracy: 0.513800\n"
     ]
    }
   ],
   "source": [
    "\"\"\"\n",
    "DON'T MODIFY ANYTHING IN THIS CELL\n",
    "\"\"\"\n",
    "print('Checking the Training on a Single Batch...')\n",
    "with tf.Session() as sess:\n",
    "    # Initializing the variables\n",
    "    sess.run(tf.global_variables_initializer())\n",
    "    \n",
    "    # Training cycle\n",
    "    for epoch in range(epochs):\n",
    "        batch_i = 1\n",
    "        for batch_features, batch_labels in helper.load_preprocess_training_batch(batch_i, batch_size):\n",
    "            train_neural_network(sess, optimizer, keep_probability, batch_features, batch_labels)\n",
    "        print('Epoch {:>2}, CIFAR-10 Batch {}:  '.format(epoch + 1, batch_i), end='')\n",
    "        print_stats(sess, batch_features, batch_labels, cost, accuracy)"
   ]
  },
  {
   "cell_type": "markdown",
   "metadata": {
    "deletable": true,
    "editable": true
   },
   "source": [
    "### Fully Train the Model\n",
    "Now that you got a good accuracy with a single CIFAR-10 batch, try it with all five batches."
   ]
  },
  {
   "cell_type": "code",
   "execution_count": 56,
   "metadata": {
    "collapsed": false,
    "deletable": true,
    "editable": true
   },
   "outputs": [
    {
     "name": "stdout",
     "output_type": "stream",
     "text": [
      "Training...\n",
      "Epoch  1, CIFAR-10 Batch 1:  Loss:     2.3015 Validation Accuracy: 0.098200\n",
      "Epoch  1, CIFAR-10 Batch 2:  Loss:     2.3024 Validation Accuracy: 0.097000\n",
      "Epoch  1, CIFAR-10 Batch 3:  Loss:     2.3017 Validation Accuracy: 0.101800\n",
      "Epoch  1, CIFAR-10 Batch 4:  Loss:     2.3019 Validation Accuracy: 0.101000\n",
      "Epoch  1, CIFAR-10 Batch 5:  Loss:     2.3029 Validation Accuracy: 0.106200\n",
      "Epoch  2, CIFAR-10 Batch 1:  Loss:     2.2542 Validation Accuracy: 0.150800\n",
      "Epoch  2, CIFAR-10 Batch 2:  Loss:     2.2389 Validation Accuracy: 0.154800\n",
      "Epoch  2, CIFAR-10 Batch 3:  Loss:     2.1542 Validation Accuracy: 0.174400\n",
      "Epoch  2, CIFAR-10 Batch 4:  Loss:     2.2043 Validation Accuracy: 0.189800\n",
      "Epoch  2, CIFAR-10 Batch 5:  Loss:     2.1758 Validation Accuracy: 0.179000\n",
      "Epoch  3, CIFAR-10 Batch 1:  Loss:     2.1851 Validation Accuracy: 0.164000\n",
      "Epoch  3, CIFAR-10 Batch 2:  Loss:     2.2032 Validation Accuracy: 0.192800\n",
      "Epoch  3, CIFAR-10 Batch 3:  Loss:     2.1086 Validation Accuracy: 0.165600\n",
      "Epoch  3, CIFAR-10 Batch 4:  Loss:     2.0877 Validation Accuracy: 0.212600\n",
      "Epoch  3, CIFAR-10 Batch 5:  Loss:     2.0711 Validation Accuracy: 0.169800\n",
      "Epoch  4, CIFAR-10 Batch 1:  Loss:     2.1459 Validation Accuracy: 0.209000\n",
      "Epoch  4, CIFAR-10 Batch 2:  Loss:     1.9139 Validation Accuracy: 0.237400\n",
      "Epoch  4, CIFAR-10 Batch 3:  Loss:     1.8876 Validation Accuracy: 0.236000\n",
      "Epoch  4, CIFAR-10 Batch 4:  Loss:     1.8970 Validation Accuracy: 0.288000\n",
      "Epoch  4, CIFAR-10 Batch 5:  Loss:     1.8001 Validation Accuracy: 0.277000\n",
      "Epoch  5, CIFAR-10 Batch 1:  Loss:     2.1188 Validation Accuracy: 0.274000\n",
      "Epoch  5, CIFAR-10 Batch 2:  Loss:     1.9250 Validation Accuracy: 0.301200\n",
      "Epoch  5, CIFAR-10 Batch 3:  Loss:     1.7096 Validation Accuracy: 0.293000\n",
      "Epoch  5, CIFAR-10 Batch 4:  Loss:     1.7418 Validation Accuracy: 0.315000\n",
      "Epoch  5, CIFAR-10 Batch 5:  Loss:     1.7491 Validation Accuracy: 0.307400\n",
      "Epoch  6, CIFAR-10 Batch 1:  Loss:     2.0143 Validation Accuracy: 0.289200\n",
      "Epoch  6, CIFAR-10 Batch 2:  Loss:     1.8314 Validation Accuracy: 0.297000\n",
      "Epoch  6, CIFAR-10 Batch 3:  Loss:     1.5601 Validation Accuracy: 0.321000\n",
      "Epoch  6, CIFAR-10 Batch 4:  Loss:     1.7111 Validation Accuracy: 0.316400\n",
      "Epoch  6, CIFAR-10 Batch 5:  Loss:     1.6618 Validation Accuracy: 0.323000\n",
      "Epoch  7, CIFAR-10 Batch 1:  Loss:     1.8680 Validation Accuracy: 0.342200\n",
      "Epoch  7, CIFAR-10 Batch 2:  Loss:     1.8216 Validation Accuracy: 0.324800\n",
      "Epoch  7, CIFAR-10 Batch 3:  Loss:     1.5408 Validation Accuracy: 0.340400\n",
      "Epoch  7, CIFAR-10 Batch 4:  Loss:     1.5921 Validation Accuracy: 0.349600\n",
      "Epoch  7, CIFAR-10 Batch 5:  Loss:     1.5998 Validation Accuracy: 0.322400\n",
      "Epoch  8, CIFAR-10 Batch 1:  Loss:     1.8195 Validation Accuracy: 0.342600\n",
      "Epoch  8, CIFAR-10 Batch 2:  Loss:     1.7983 Validation Accuracy: 0.361800\n",
      "Epoch  8, CIFAR-10 Batch 3:  Loss:     1.4903 Validation Accuracy: 0.365800\n",
      "Epoch  8, CIFAR-10 Batch 4:  Loss:     1.5167 Validation Accuracy: 0.359400\n",
      "Epoch  8, CIFAR-10 Batch 5:  Loss:     1.5410 Validation Accuracy: 0.370200\n",
      "Epoch  9, CIFAR-10 Batch 1:  Loss:     1.7529 Validation Accuracy: 0.366200\n",
      "Epoch  9, CIFAR-10 Batch 2:  Loss:     1.6841 Validation Accuracy: 0.375800\n",
      "Epoch  9, CIFAR-10 Batch 3:  Loss:     1.4197 Validation Accuracy: 0.361000\n",
      "Epoch  9, CIFAR-10 Batch 4:  Loss:     1.4453 Validation Accuracy: 0.408400\n",
      "Epoch  9, CIFAR-10 Batch 5:  Loss:     1.3824 Validation Accuracy: 0.407200\n",
      "Epoch 10, CIFAR-10 Batch 1:  Loss:     1.5441 Validation Accuracy: 0.416800\n",
      "Epoch 10, CIFAR-10 Batch 2:  Loss:     1.5331 Validation Accuracy: 0.417800\n",
      "Epoch 10, CIFAR-10 Batch 3:  Loss:     1.3475 Validation Accuracy: 0.427600\n",
      "Epoch 10, CIFAR-10 Batch 4:  Loss:     1.4096 Validation Accuracy: 0.473200\n",
      "Epoch 10, CIFAR-10 Batch 5:  Loss:     1.3832 Validation Accuracy: 0.454200\n",
      "Epoch 11, CIFAR-10 Batch 1:  Loss:     1.5014 Validation Accuracy: 0.476400\n",
      "Epoch 11, CIFAR-10 Batch 2:  Loss:     1.4803 Validation Accuracy: 0.470000\n",
      "Epoch 11, CIFAR-10 Batch 3:  Loss:     1.1968 Validation Accuracy: 0.461800\n",
      "Epoch 11, CIFAR-10 Batch 4:  Loss:     1.2602 Validation Accuracy: 0.489000\n",
      "Epoch 11, CIFAR-10 Batch 5:  Loss:     1.3814 Validation Accuracy: 0.489800\n",
      "Epoch 12, CIFAR-10 Batch 1:  Loss:     1.3624 Validation Accuracy: 0.493800\n",
      "Epoch 12, CIFAR-10 Batch 2:  Loss:     1.2777 Validation Accuracy: 0.480400\n",
      "Epoch 12, CIFAR-10 Batch 3:  Loss:     1.1056 Validation Accuracy: 0.473200\n",
      "Epoch 12, CIFAR-10 Batch 4:  Loss:     1.2645 Validation Accuracy: 0.502000\n",
      "Epoch 12, CIFAR-10 Batch 5:  Loss:     1.2399 Validation Accuracy: 0.506200\n",
      "Epoch 13, CIFAR-10 Batch 1:  Loss:     1.2359 Validation Accuracy: 0.492800\n",
      "Epoch 13, CIFAR-10 Batch 2:  Loss:     1.1542 Validation Accuracy: 0.504800\n",
      "Epoch 13, CIFAR-10 Batch 3:  Loss:     1.0342 Validation Accuracy: 0.496600\n",
      "Epoch 13, CIFAR-10 Batch 4:  Loss:     1.1347 Validation Accuracy: 0.512800\n",
      "Epoch 13, CIFAR-10 Batch 5:  Loss:     1.1661 Validation Accuracy: 0.506200\n",
      "Epoch 14, CIFAR-10 Batch 1:  Loss:     1.1104 Validation Accuracy: 0.490200\n",
      "Epoch 14, CIFAR-10 Batch 2:  Loss:     1.0926 Validation Accuracy: 0.518200\n",
      "Epoch 14, CIFAR-10 Batch 3:  Loss:     0.9421 Validation Accuracy: 0.512200\n",
      "Epoch 14, CIFAR-10 Batch 4:  Loss:     1.0538 Validation Accuracy: 0.530000\n",
      "Epoch 14, CIFAR-10 Batch 5:  Loss:     1.0840 Validation Accuracy: 0.516000\n",
      "Epoch 15, CIFAR-10 Batch 1:  Loss:     1.1123 Validation Accuracy: 0.518000\n",
      "Epoch 15, CIFAR-10 Batch 2:  Loss:     1.0399 Validation Accuracy: 0.535800\n",
      "Epoch 15, CIFAR-10 Batch 3:  Loss:     0.8969 Validation Accuracy: 0.527600\n",
      "Epoch 15, CIFAR-10 Batch 4:  Loss:     1.0159 Validation Accuracy: 0.541200\n",
      "Epoch 15, CIFAR-10 Batch 5:  Loss:     1.0923 Validation Accuracy: 0.535200\n",
      "Epoch 16, CIFAR-10 Batch 1:  Loss:     1.0582 Validation Accuracy: 0.534000\n",
      "Epoch 16, CIFAR-10 Batch 2:  Loss:     0.9962 Validation Accuracy: 0.539200\n",
      "Epoch 16, CIFAR-10 Batch 3:  Loss:     0.8236 Validation Accuracy: 0.519000\n",
      "Epoch 16, CIFAR-10 Batch 4:  Loss:     0.9224 Validation Accuracy: 0.546400\n",
      "Epoch 16, CIFAR-10 Batch 5:  Loss:     0.9767 Validation Accuracy: 0.540000\n",
      "Epoch 17, CIFAR-10 Batch 1:  Loss:     1.0287 Validation Accuracy: 0.548800\n",
      "Epoch 17, CIFAR-10 Batch 2:  Loss:     0.9216 Validation Accuracy: 0.556000\n",
      "Epoch 17, CIFAR-10 Batch 3:  Loss:     0.7086 Validation Accuracy: 0.550000\n",
      "Epoch 17, CIFAR-10 Batch 4:  Loss:     0.8701 Validation Accuracy: 0.553800\n",
      "Epoch 17, CIFAR-10 Batch 5:  Loss:     0.9335 Validation Accuracy: 0.552800\n",
      "Epoch 18, CIFAR-10 Batch 1:  Loss:     0.9389 Validation Accuracy: 0.549000\n",
      "Epoch 18, CIFAR-10 Batch 2:  Loss:     0.8713 Validation Accuracy: 0.547600\n",
      "Epoch 18, CIFAR-10 Batch 3:  Loss:     0.6309 Validation Accuracy: 0.547800\n",
      "Epoch 18, CIFAR-10 Batch 4:  Loss:     0.7923 Validation Accuracy: 0.555800\n",
      "Epoch 18, CIFAR-10 Batch 5:  Loss:     0.8551 Validation Accuracy: 0.559200\n",
      "Epoch 19, CIFAR-10 Batch 1:  Loss:     0.9184 Validation Accuracy: 0.551600\n",
      "Epoch 19, CIFAR-10 Batch 2:  Loss:     0.8413 Validation Accuracy: 0.556200\n",
      "Epoch 19, CIFAR-10 Batch 3:  Loss:     0.6684 Validation Accuracy: 0.546400\n",
      "Epoch 19, CIFAR-10 Batch 4:  Loss:     0.8162 Validation Accuracy: 0.554000\n",
      "Epoch 19, CIFAR-10 Batch 5:  Loss:     0.7641 Validation Accuracy: 0.554800\n",
      "Epoch 20, CIFAR-10 Batch 1:  Loss:     0.8448 Validation Accuracy: 0.567200\n",
      "Epoch 20, CIFAR-10 Batch 2:  Loss:     0.7204 Validation Accuracy: 0.560400\n",
      "Epoch 20, CIFAR-10 Batch 3:  Loss:     0.6190 Validation Accuracy: 0.550600\n",
      "Epoch 20, CIFAR-10 Batch 4:  Loss:     0.7664 Validation Accuracy: 0.560200\n",
      "Epoch 20, CIFAR-10 Batch 5:  Loss:     0.7260 Validation Accuracy: 0.562400\n",
      "Epoch 21, CIFAR-10 Batch 1:  Loss:     0.7960 Validation Accuracy: 0.559400\n",
      "Epoch 21, CIFAR-10 Batch 2:  Loss:     0.7675 Validation Accuracy: 0.559800\n",
      "Epoch 21, CIFAR-10 Batch 3:  Loss:     0.5859 Validation Accuracy: 0.553800\n",
      "Epoch 21, CIFAR-10 Batch 4:  Loss:     0.7061 Validation Accuracy: 0.560000\n",
      "Epoch 21, CIFAR-10 Batch 5:  Loss:     0.7006 Validation Accuracy: 0.566000\n",
      "Epoch 22, CIFAR-10 Batch 1:  Loss:     0.7707 Validation Accuracy: 0.551200\n",
      "Epoch 22, CIFAR-10 Batch 2:  Loss:     0.6864 Validation Accuracy: 0.548000\n",
      "Epoch 22, CIFAR-10 Batch 3:  Loss:     0.5568 Validation Accuracy: 0.557400\n",
      "Epoch 22, CIFAR-10 Batch 4:  Loss:     0.6245 Validation Accuracy: 0.559400\n",
      "Epoch 22, CIFAR-10 Batch 5:  Loss:     0.6627 Validation Accuracy: 0.583200\n",
      "Epoch 23, CIFAR-10 Batch 1:  Loss:     0.7489 Validation Accuracy: 0.562200\n",
      "Epoch 23, CIFAR-10 Batch 2:  Loss:     0.6006 Validation Accuracy: 0.566800\n",
      "Epoch 23, CIFAR-10 Batch 3:  Loss:     0.5053 Validation Accuracy: 0.554400\n",
      "Epoch 23, CIFAR-10 Batch 4:  Loss:     0.6160 Validation Accuracy: 0.572400\n",
      "Epoch 23, CIFAR-10 Batch 5:  Loss:     0.6633 Validation Accuracy: 0.572000\n",
      "Epoch 24, CIFAR-10 Batch 1:  Loss:     0.6884 Validation Accuracy: 0.576200\n",
      "Epoch 24, CIFAR-10 Batch 2:  Loss:     0.5724 Validation Accuracy: 0.572800\n",
      "Epoch 24, CIFAR-10 Batch 3:  Loss:     0.4447 Validation Accuracy: 0.580400\n",
      "Epoch 24, CIFAR-10 Batch 4:  Loss:     0.5851 Validation Accuracy: 0.571400\n",
      "Epoch 24, CIFAR-10 Batch 5:  Loss:     0.6244 Validation Accuracy: 0.586600\n",
      "Epoch 25, CIFAR-10 Batch 1:  Loss:     0.6071 Validation Accuracy: 0.576400\n",
      "Epoch 25, CIFAR-10 Batch 2:  Loss:     0.5149 Validation Accuracy: 0.571200\n",
      "Epoch 25, CIFAR-10 Batch 3:  Loss:     0.4005 Validation Accuracy: 0.565400\n",
      "Epoch 25, CIFAR-10 Batch 4:  Loss:     0.5784 Validation Accuracy: 0.581200\n",
      "Epoch 25, CIFAR-10 Batch 5:  Loss:     0.5839 Validation Accuracy: 0.582200\n",
      "Epoch 26, CIFAR-10 Batch 1:  Loss:     0.5367 Validation Accuracy: 0.582400\n",
      "Epoch 26, CIFAR-10 Batch 2:  Loss:     0.4968 Validation Accuracy: 0.573000\n",
      "Epoch 26, CIFAR-10 Batch 3:  Loss:     0.4008 Validation Accuracy: 0.571600\n",
      "Epoch 26, CIFAR-10 Batch 4:  Loss:     0.4797 Validation Accuracy: 0.583600\n",
      "Epoch 26, CIFAR-10 Batch 5:  Loss:     0.5282 Validation Accuracy: 0.584600\n",
      "Epoch 27, CIFAR-10 Batch 1:  Loss:     0.4733 Validation Accuracy: 0.577800\n",
      "Epoch 27, CIFAR-10 Batch 2:  Loss:     0.4709 Validation Accuracy: 0.566400\n",
      "Epoch 27, CIFAR-10 Batch 3:  Loss:     0.3139 Validation Accuracy: 0.577000\n",
      "Epoch 27, CIFAR-10 Batch 4:  Loss:     0.5203 Validation Accuracy: 0.581800\n",
      "Epoch 27, CIFAR-10 Batch 5:  Loss:     0.5362 Validation Accuracy: 0.587400\n",
      "Epoch 28, CIFAR-10 Batch 1:  Loss:     0.4602 Validation Accuracy: 0.582800\n",
      "Epoch 28, CIFAR-10 Batch 2:  Loss:     0.4473 Validation Accuracy: 0.581600\n",
      "Epoch 28, CIFAR-10 Batch 3:  Loss:     0.2857 Validation Accuracy: 0.585200\n",
      "Epoch 28, CIFAR-10 Batch 4:  Loss:     0.4777 Validation Accuracy: 0.583600\n",
      "Epoch 28, CIFAR-10 Batch 5:  Loss:     0.5213 Validation Accuracy: 0.597000\n",
      "Epoch 29, CIFAR-10 Batch 1:  Loss:     0.4501 Validation Accuracy: 0.592400\n",
      "Epoch 29, CIFAR-10 Batch 2:  Loss:     0.4455 Validation Accuracy: 0.580000\n",
      "Epoch 29, CIFAR-10 Batch 3:  Loss:     0.2856 Validation Accuracy: 0.578400\n",
      "Epoch 29, CIFAR-10 Batch 4:  Loss:     0.4538 Validation Accuracy: 0.588800\n",
      "Epoch 29, CIFAR-10 Batch 5:  Loss:     0.4642 Validation Accuracy: 0.596600\n",
      "Epoch 30, CIFAR-10 Batch 1:  Loss:     0.3833 Validation Accuracy: 0.600800\n",
      "Epoch 30, CIFAR-10 Batch 2:  Loss:     0.4375 Validation Accuracy: 0.582800\n",
      "Epoch 30, CIFAR-10 Batch 3:  Loss:     0.2661 Validation Accuracy: 0.587200\n",
      "Epoch 30, CIFAR-10 Batch 4:  Loss:     0.4322 Validation Accuracy: 0.589600\n",
      "Epoch 30, CIFAR-10 Batch 5:  Loss:     0.4489 Validation Accuracy: 0.593200\n",
      "Epoch 31, CIFAR-10 Batch 1:  Loss:     0.3605 Validation Accuracy: 0.594800\n",
      "Epoch 31, CIFAR-10 Batch 2:  Loss:     0.4180 Validation Accuracy: 0.575600\n",
      "Epoch 31, CIFAR-10 Batch 3:  Loss:     0.2947 Validation Accuracy: 0.589800\n",
      "Epoch 31, CIFAR-10 Batch 4:  Loss:     0.4285 Validation Accuracy: 0.591000\n",
      "Epoch 31, CIFAR-10 Batch 5:  Loss:     0.4321 Validation Accuracy: 0.598200\n",
      "Epoch 32, CIFAR-10 Batch 1:  Loss:     0.3214 Validation Accuracy: 0.584200\n",
      "Epoch 32, CIFAR-10 Batch 2:  Loss:     0.3731 Validation Accuracy: 0.583000\n",
      "Epoch 32, CIFAR-10 Batch 3:  Loss:     0.2261 Validation Accuracy: 0.585200\n",
      "Epoch 32, CIFAR-10 Batch 4:  Loss:     0.3930 Validation Accuracy: 0.596200\n",
      "Epoch 32, CIFAR-10 Batch 5:  Loss:     0.3756 Validation Accuracy: 0.594200\n",
      "Epoch 33, CIFAR-10 Batch 1:  Loss:     0.3140 Validation Accuracy: 0.604400\n",
      "Epoch 33, CIFAR-10 Batch 2:  Loss:     0.3495 Validation Accuracy: 0.576400\n",
      "Epoch 33, CIFAR-10 Batch 3:  Loss:     0.2116 Validation Accuracy: 0.585400\n",
      "Epoch 33, CIFAR-10 Batch 4:  Loss:     0.3843 Validation Accuracy: 0.582800\n",
      "Epoch 33, CIFAR-10 Batch 5:  Loss:     0.3646 Validation Accuracy: 0.596000\n",
      "Epoch 34, CIFAR-10 Batch 1:  Loss:     0.2880 Validation Accuracy: 0.597600\n",
      "Epoch 34, CIFAR-10 Batch 2:  Loss:     0.3160 Validation Accuracy: 0.585200\n",
      "Epoch 34, CIFAR-10 Batch 3:  Loss:     0.2198 Validation Accuracy: 0.591000\n",
      "Epoch 34, CIFAR-10 Batch 4:  Loss:     0.4145 Validation Accuracy: 0.584400\n",
      "Epoch 34, CIFAR-10 Batch 5:  Loss:     0.3462 Validation Accuracy: 0.589000\n",
      "Epoch 35, CIFAR-10 Batch 1:  Loss:     0.2905 Validation Accuracy: 0.598800\n",
      "Epoch 35, CIFAR-10 Batch 2:  Loss:     0.3422 Validation Accuracy: 0.586400\n",
      "Epoch 35, CIFAR-10 Batch 3:  Loss:     0.1726 Validation Accuracy: 0.591800\n",
      "Epoch 35, CIFAR-10 Batch 4:  Loss:     0.4066 Validation Accuracy: 0.585200\n",
      "Epoch 35, CIFAR-10 Batch 5:  Loss:     0.2743 Validation Accuracy: 0.600600\n",
      "Epoch 36, CIFAR-10 Batch 1:  Loss:     0.3032 Validation Accuracy: 0.603200\n",
      "Epoch 36, CIFAR-10 Batch 2:  Loss:     0.2932 Validation Accuracy: 0.587800\n",
      "Epoch 36, CIFAR-10 Batch 3:  Loss:     0.1535 Validation Accuracy: 0.594600\n",
      "Epoch 36, CIFAR-10 Batch 4:  Loss:     0.3383 Validation Accuracy: 0.599400\n",
      "Epoch 36, CIFAR-10 Batch 5:  Loss:     0.2766 Validation Accuracy: 0.601800\n",
      "Epoch 37, CIFAR-10 Batch 1:  Loss:     0.2498 Validation Accuracy: 0.605800\n",
      "Epoch 37, CIFAR-10 Batch 2:  Loss:     0.2771 Validation Accuracy: 0.576200\n",
      "Epoch 37, CIFAR-10 Batch 3:  Loss:     0.1790 Validation Accuracy: 0.592200\n",
      "Epoch 37, CIFAR-10 Batch 4:  Loss:     0.3331 Validation Accuracy: 0.580200\n",
      "Epoch 37, CIFAR-10 Batch 5:  Loss:     0.2285 Validation Accuracy: 0.597000\n",
      "Epoch 38, CIFAR-10 Batch 1:  Loss:     0.2261 Validation Accuracy: 0.602800\n",
      "Epoch 38, CIFAR-10 Batch 2:  Loss:     0.2510 Validation Accuracy: 0.585800\n",
      "Epoch 38, CIFAR-10 Batch 3:  Loss:     0.1463 Validation Accuracy: 0.599400\n",
      "Epoch 38, CIFAR-10 Batch 4:  Loss:     0.3089 Validation Accuracy: 0.595200\n",
      "Epoch 38, CIFAR-10 Batch 5:  Loss:     0.2011 Validation Accuracy: 0.603000\n",
      "Epoch 39, CIFAR-10 Batch 1:  Loss:     0.2631 Validation Accuracy: 0.594200\n",
      "Epoch 39, CIFAR-10 Batch 2:  Loss:     0.2593 Validation Accuracy: 0.579000\n",
      "Epoch 39, CIFAR-10 Batch 3:  Loss:     0.1311 Validation Accuracy: 0.598000\n",
      "Epoch 39, CIFAR-10 Batch 4:  Loss:     0.3066 Validation Accuracy: 0.585400\n",
      "Epoch 39, CIFAR-10 Batch 5:  Loss:     0.2194 Validation Accuracy: 0.590200\n",
      "Epoch 40, CIFAR-10 Batch 1:  Loss:     0.2355 Validation Accuracy: 0.590200\n",
      "Epoch 40, CIFAR-10 Batch 2:  Loss:     0.2524 Validation Accuracy: 0.587600\n",
      "Epoch 40, CIFAR-10 Batch 3:  Loss:     0.1193 Validation Accuracy: 0.601000\n",
      "Epoch 40, CIFAR-10 Batch 4:  Loss:     0.3343 Validation Accuracy: 0.603000\n",
      "Epoch 40, CIFAR-10 Batch 5:  Loss:     0.2055 Validation Accuracy: 0.606000\n",
      "Epoch 41, CIFAR-10 Batch 1:  Loss:     0.1980 Validation Accuracy: 0.606000\n",
      "Epoch 41, CIFAR-10 Batch 2:  Loss:     0.2787 Validation Accuracy: 0.596200\n",
      "Epoch 41, CIFAR-10 Batch 3:  Loss:     0.1285 Validation Accuracy: 0.597200\n",
      "Epoch 41, CIFAR-10 Batch 4:  Loss:     0.3002 Validation Accuracy: 0.600200\n",
      "Epoch 41, CIFAR-10 Batch 5:  Loss:     0.1863 Validation Accuracy: 0.600800\n",
      "Epoch 42, CIFAR-10 Batch 1:  Loss:     0.2075 Validation Accuracy: 0.598800\n",
      "Epoch 42, CIFAR-10 Batch 2:  Loss:     0.2587 Validation Accuracy: 0.599800\n",
      "Epoch 42, CIFAR-10 Batch 3:  Loss:     0.1144 Validation Accuracy: 0.598200\n",
      "Epoch 42, CIFAR-10 Batch 4:  Loss:     0.2931 Validation Accuracy: 0.598200\n",
      "Epoch 42, CIFAR-10 Batch 5:  Loss:     0.1978 Validation Accuracy: 0.605800\n",
      "Epoch 43, CIFAR-10 Batch 1:  Loss:     0.2042 Validation Accuracy: 0.592200\n",
      "Epoch 43, CIFAR-10 Batch 2:  Loss:     0.2903 Validation Accuracy: 0.598000\n",
      "Epoch 43, CIFAR-10 Batch 3:  Loss:     0.1106 Validation Accuracy: 0.600200\n",
      "Epoch 43, CIFAR-10 Batch 4:  Loss:     0.2223 Validation Accuracy: 0.602600\n",
      "Epoch 43, CIFAR-10 Batch 5:  Loss:     0.2067 Validation Accuracy: 0.600600\n",
      "Epoch 44, CIFAR-10 Batch 1:  Loss:     0.2155 Validation Accuracy: 0.589600\n",
      "Epoch 44, CIFAR-10 Batch 2:  Loss:     0.2461 Validation Accuracy: 0.606400\n",
      "Epoch 44, CIFAR-10 Batch 3:  Loss:     0.1034 Validation Accuracy: 0.598600\n",
      "Epoch 44, CIFAR-10 Batch 4:  Loss:     0.2283 Validation Accuracy: 0.611000\n",
      "Epoch 44, CIFAR-10 Batch 5:  Loss:     0.1948 Validation Accuracy: 0.602400\n",
      "Epoch 45, CIFAR-10 Batch 1:  Loss:     0.1867 Validation Accuracy: 0.587000\n",
      "Epoch 45, CIFAR-10 Batch 2:  Loss:     0.2027 Validation Accuracy: 0.601000\n",
      "Epoch 45, CIFAR-10 Batch 3:  Loss:     0.1055 Validation Accuracy: 0.595000\n",
      "Epoch 45, CIFAR-10 Batch 4:  Loss:     0.2083 Validation Accuracy: 0.606000\n",
      "Epoch 45, CIFAR-10 Batch 5:  Loss:     0.1512 Validation Accuracy: 0.610000\n",
      "Epoch 46, CIFAR-10 Batch 1:  Loss:     0.1882 Validation Accuracy: 0.590200\n",
      "Epoch 46, CIFAR-10 Batch 2:  Loss:     0.2020 Validation Accuracy: 0.599400\n",
      "Epoch 46, CIFAR-10 Batch 3:  Loss:     0.0790 Validation Accuracy: 0.609000\n",
      "Epoch 46, CIFAR-10 Batch 4:  Loss:     0.1937 Validation Accuracy: 0.604600\n",
      "Epoch 46, CIFAR-10 Batch 5:  Loss:     0.1431 Validation Accuracy: 0.601600\n",
      "Epoch 47, CIFAR-10 Batch 1:  Loss:     0.1592 Validation Accuracy: 0.605800\n",
      "Epoch 47, CIFAR-10 Batch 2:  Loss:     0.1704 Validation Accuracy: 0.606000\n",
      "Epoch 47, CIFAR-10 Batch 3:  Loss:     0.0971 Validation Accuracy: 0.600000\n",
      "Epoch 47, CIFAR-10 Batch 4:  Loss:     0.1552 Validation Accuracy: 0.609000\n",
      "Epoch 47, CIFAR-10 Batch 5:  Loss:     0.1629 Validation Accuracy: 0.591000\n",
      "Epoch 48, CIFAR-10 Batch 1:  Loss:     0.1504 Validation Accuracy: 0.594600\n",
      "Epoch 48, CIFAR-10 Batch 2:  Loss:     0.1365 Validation Accuracy: 0.608800\n",
      "Epoch 48, CIFAR-10 Batch 3:  Loss:     0.0710 Validation Accuracy: 0.605000\n",
      "Epoch 48, CIFAR-10 Batch 4:  Loss:     0.1544 Validation Accuracy: 0.607200\n",
      "Epoch 48, CIFAR-10 Batch 5:  Loss:     0.1479 Validation Accuracy: 0.599000\n",
      "Epoch 49, CIFAR-10 Batch 1:  Loss:     0.1526 Validation Accuracy: 0.589400\n",
      "Epoch 49, CIFAR-10 Batch 2:  Loss:     0.1563 Validation Accuracy: 0.605600\n",
      "Epoch 49, CIFAR-10 Batch 3:  Loss:     0.0842 Validation Accuracy: 0.606200\n",
      "Epoch 49, CIFAR-10 Batch 4:  Loss:     0.1507 Validation Accuracy: 0.599200\n",
      "Epoch 49, CIFAR-10 Batch 5:  Loss:     0.1494 Validation Accuracy: 0.595200\n",
      "Epoch 50, CIFAR-10 Batch 1:  Loss:     0.1515 Validation Accuracy: 0.592200\n",
      "Epoch 50, CIFAR-10 Batch 2:  Loss:     0.1607 Validation Accuracy: 0.602800\n",
      "Epoch 50, CIFAR-10 Batch 3:  Loss:     0.0843 Validation Accuracy: 0.606000\n",
      "Epoch 50, CIFAR-10 Batch 4:  Loss:     0.1396 Validation Accuracy: 0.603000\n",
      "Epoch 50, CIFAR-10 Batch 5:  Loss:     0.1383 Validation Accuracy: 0.597600\n",
      "Epoch 51, CIFAR-10 Batch 1:  Loss:     0.1617 Validation Accuracy: 0.582400\n",
      "Epoch 51, CIFAR-10 Batch 2:  Loss:     0.1429 Validation Accuracy: 0.596000\n",
      "Epoch 51, CIFAR-10 Batch 3:  Loss:     0.0541 Validation Accuracy: 0.600800\n",
      "Epoch 51, CIFAR-10 Batch 4:  Loss:     0.1108 Validation Accuracy: 0.597800\n",
      "Epoch 51, CIFAR-10 Batch 5:  Loss:     0.1467 Validation Accuracy: 0.607000\n",
      "Epoch 52, CIFAR-10 Batch 1:  Loss:     0.1129 Validation Accuracy: 0.593800\n",
      "Epoch 52, CIFAR-10 Batch 2:  Loss:     0.1485 Validation Accuracy: 0.596800\n",
      "Epoch 52, CIFAR-10 Batch 3:  Loss:     0.0557 Validation Accuracy: 0.606400\n",
      "Epoch 52, CIFAR-10 Batch 4:  Loss:     0.0873 Validation Accuracy: 0.602400\n",
      "Epoch 52, CIFAR-10 Batch 5:  Loss:     0.1154 Validation Accuracy: 0.605000\n",
      "Epoch 53, CIFAR-10 Batch 1:  Loss:     0.1210 Validation Accuracy: 0.594200\n",
      "Epoch 53, CIFAR-10 Batch 2:  Loss:     0.1405 Validation Accuracy: 0.603800\n",
      "Epoch 53, CIFAR-10 Batch 3:  Loss:     0.0657 Validation Accuracy: 0.601600\n",
      "Epoch 53, CIFAR-10 Batch 4:  Loss:     0.0778 Validation Accuracy: 0.605200\n",
      "Epoch 53, CIFAR-10 Batch 5:  Loss:     0.0949 Validation Accuracy: 0.597600\n",
      "Epoch 54, CIFAR-10 Batch 1:  Loss:     0.1041 Validation Accuracy: 0.605200\n",
      "Epoch 54, CIFAR-10 Batch 2:  Loss:     0.1217 Validation Accuracy: 0.604400\n",
      "Epoch 54, CIFAR-10 Batch 3:  Loss:     0.0394 Validation Accuracy: 0.606200\n",
      "Epoch 54, CIFAR-10 Batch 4:  Loss:     0.0563 Validation Accuracy: 0.602200\n",
      "Epoch 54, CIFAR-10 Batch 5:  Loss:     0.1029 Validation Accuracy: 0.590200\n",
      "Epoch 55, CIFAR-10 Batch 1:  Loss:     0.1416 Validation Accuracy: 0.602000\n",
      "Epoch 55, CIFAR-10 Batch 2:  Loss:     0.1170 Validation Accuracy: 0.605000\n",
      "Epoch 55, CIFAR-10 Batch 3:  Loss:     0.0390 Validation Accuracy: 0.612400\n",
      "Epoch 55, CIFAR-10 Batch 4:  Loss:     0.0407 Validation Accuracy: 0.601000\n",
      "Epoch 55, CIFAR-10 Batch 5:  Loss:     0.0959 Validation Accuracy: 0.595400\n",
      "Epoch 56, CIFAR-10 Batch 1:  Loss:     0.1378 Validation Accuracy: 0.605400\n",
      "Epoch 56, CIFAR-10 Batch 2:  Loss:     0.1251 Validation Accuracy: 0.596600\n",
      "Epoch 56, CIFAR-10 Batch 3:  Loss:     0.0538 Validation Accuracy: 0.603200\n",
      "Epoch 56, CIFAR-10 Batch 4:  Loss:     0.0677 Validation Accuracy: 0.608200\n",
      "Epoch 56, CIFAR-10 Batch 5:  Loss:     0.0852 Validation Accuracy: 0.602400\n",
      "Epoch 57, CIFAR-10 Batch 1:  Loss:     0.1209 Validation Accuracy: 0.592800\n",
      "Epoch 57, CIFAR-10 Batch 2:  Loss:     0.0923 Validation Accuracy: 0.598200\n",
      "Epoch 57, CIFAR-10 Batch 3:  Loss:     0.0883 Validation Accuracy: 0.607800\n",
      "Epoch 57, CIFAR-10 Batch 4:  Loss:     0.0522 Validation Accuracy: 0.593800\n",
      "Epoch 57, CIFAR-10 Batch 5:  Loss:     0.0713 Validation Accuracy: 0.613200\n",
      "Epoch 58, CIFAR-10 Batch 1:  Loss:     0.1213 Validation Accuracy: 0.601200\n",
      "Epoch 58, CIFAR-10 Batch 2:  Loss:     0.1106 Validation Accuracy: 0.594400\n",
      "Epoch 58, CIFAR-10 Batch 3:  Loss:     0.0298 Validation Accuracy: 0.607600\n",
      "Epoch 58, CIFAR-10 Batch 4:  Loss:     0.0524 Validation Accuracy: 0.602200\n",
      "Epoch 58, CIFAR-10 Batch 5:  Loss:     0.0556 Validation Accuracy: 0.600600\n",
      "Epoch 59, CIFAR-10 Batch 1:  Loss:     0.1117 Validation Accuracy: 0.598200\n",
      "Epoch 59, CIFAR-10 Batch 2:  Loss:     0.0975 Validation Accuracy: 0.607000\n",
      "Epoch 59, CIFAR-10 Batch 3:  Loss:     0.0200 Validation Accuracy: 0.609800\n",
      "Epoch 59, CIFAR-10 Batch 4:  Loss:     0.0356 Validation Accuracy: 0.600600\n",
      "Epoch 59, CIFAR-10 Batch 5:  Loss:     0.0656 Validation Accuracy: 0.598200\n",
      "Epoch 60, CIFAR-10 Batch 1:  Loss:     0.0862 Validation Accuracy: 0.596000\n",
      "Epoch 60, CIFAR-10 Batch 2:  Loss:     0.0743 Validation Accuracy: 0.610200\n",
      "Epoch 60, CIFAR-10 Batch 3:  Loss:     0.0344 Validation Accuracy: 0.605200\n",
      "Epoch 60, CIFAR-10 Batch 4:  Loss:     0.0360 Validation Accuracy: 0.586400\n",
      "Epoch 60, CIFAR-10 Batch 5:  Loss:     0.0539 Validation Accuracy: 0.606000\n",
      "Epoch 61, CIFAR-10 Batch 1:  Loss:     0.0876 Validation Accuracy: 0.596400\n",
      "Epoch 61, CIFAR-10 Batch 2:  Loss:     0.0986 Validation Accuracy: 0.597400\n",
      "Epoch 61, CIFAR-10 Batch 3:  Loss:     0.0249 Validation Accuracy: 0.600800\n",
      "Epoch 61, CIFAR-10 Batch 4:  Loss:     0.0461 Validation Accuracy: 0.580800\n",
      "Epoch 61, CIFAR-10 Batch 5:  Loss:     0.0630 Validation Accuracy: 0.604200\n",
      "Epoch 62, CIFAR-10 Batch 1:  Loss:     0.0784 Validation Accuracy: 0.599000\n",
      "Epoch 62, CIFAR-10 Batch 2:  Loss:     0.1358 Validation Accuracy: 0.585800\n",
      "Epoch 62, CIFAR-10 Batch 3:  Loss:     0.0342 Validation Accuracy: 0.607800\n",
      "Epoch 62, CIFAR-10 Batch 4:  Loss:     0.0333 Validation Accuracy: 0.594800\n",
      "Epoch 62, CIFAR-10 Batch 5:  Loss:     0.0575 Validation Accuracy: 0.599000\n",
      "Epoch 63, CIFAR-10 Batch 1:  Loss:     0.1045 Validation Accuracy: 0.589600\n",
      "Epoch 63, CIFAR-10 Batch 2:  Loss:     0.0899 Validation Accuracy: 0.597800\n",
      "Epoch 63, CIFAR-10 Batch 3:  Loss:     0.0276 Validation Accuracy: 0.599400\n",
      "Epoch 63, CIFAR-10 Batch 4:  Loss:     0.0349 Validation Accuracy: 0.605600\n",
      "Epoch 63, CIFAR-10 Batch 5:  Loss:     0.0556 Validation Accuracy: 0.593200\n",
      "Epoch 64, CIFAR-10 Batch 1:  Loss:     0.0731 Validation Accuracy: 0.594600\n",
      "Epoch 64, CIFAR-10 Batch 2:  Loss:     0.0799 Validation Accuracy: 0.595600\n",
      "Epoch 64, CIFAR-10 Batch 3:  Loss:     0.0239 Validation Accuracy: 0.601400\n",
      "Epoch 64, CIFAR-10 Batch 4:  Loss:     0.0221 Validation Accuracy: 0.596400\n",
      "Epoch 64, CIFAR-10 Batch 5:  Loss:     0.0536 Validation Accuracy: 0.594000\n",
      "Epoch 65, CIFAR-10 Batch 1:  Loss:     0.0651 Validation Accuracy: 0.598200\n",
      "Epoch 65, CIFAR-10 Batch 2:  Loss:     0.1040 Validation Accuracy: 0.591200\n",
      "Epoch 65, CIFAR-10 Batch 3:  Loss:     0.0408 Validation Accuracy: 0.602800\n",
      "Epoch 65, CIFAR-10 Batch 4:  Loss:     0.0454 Validation Accuracy: 0.585000\n",
      "Epoch 65, CIFAR-10 Batch 5:  Loss:     0.0530 Validation Accuracy: 0.603000\n",
      "Epoch 66, CIFAR-10 Batch 1:  Loss:     0.0852 Validation Accuracy: 0.602000\n",
      "Epoch 66, CIFAR-10 Batch 2:  Loss:     0.1065 Validation Accuracy: 0.597200\n",
      "Epoch 66, CIFAR-10 Batch 3:  Loss:     0.0544 Validation Accuracy: 0.597800\n",
      "Epoch 66, CIFAR-10 Batch 4:  Loss:     0.0322 Validation Accuracy: 0.593000\n",
      "Epoch 66, CIFAR-10 Batch 5:  Loss:     0.0478 Validation Accuracy: 0.593600\n",
      "Epoch 67, CIFAR-10 Batch 1:  Loss:     0.0732 Validation Accuracy: 0.589600\n",
      "Epoch 67, CIFAR-10 Batch 2:  Loss:     0.0797 Validation Accuracy: 0.597400\n",
      "Epoch 67, CIFAR-10 Batch 3:  Loss:     0.0358 Validation Accuracy: 0.598000\n",
      "Epoch 67, CIFAR-10 Batch 4:  Loss:     0.0178 Validation Accuracy: 0.600400\n",
      "Epoch 67, CIFAR-10 Batch 5:  Loss:     0.0381 Validation Accuracy: 0.585800\n",
      "Epoch 68, CIFAR-10 Batch 1:  Loss:     0.0617 Validation Accuracy: 0.595000\n",
      "Epoch 68, CIFAR-10 Batch 2:  Loss:     0.0924 Validation Accuracy: 0.595400\n",
      "Epoch 68, CIFAR-10 Batch 3:  Loss:     0.0211 Validation Accuracy: 0.598400\n",
      "Epoch 68, CIFAR-10 Batch 4:  Loss:     0.0367 Validation Accuracy: 0.600400\n",
      "Epoch 68, CIFAR-10 Batch 5:  Loss:     0.0402 Validation Accuracy: 0.607600\n",
      "Epoch 69, CIFAR-10 Batch 1:  Loss:     0.0494 Validation Accuracy: 0.600200\n",
      "Epoch 69, CIFAR-10 Batch 2:  Loss:     0.0579 Validation Accuracy: 0.603000\n",
      "Epoch 69, CIFAR-10 Batch 3:  Loss:     0.0317 Validation Accuracy: 0.599800\n",
      "Epoch 69, CIFAR-10 Batch 4:  Loss:     0.0274 Validation Accuracy: 0.598800\n",
      "Epoch 69, CIFAR-10 Batch 5:  Loss:     0.0216 Validation Accuracy: 0.594200\n",
      "Epoch 70, CIFAR-10 Batch 1:  Loss:     0.0819 Validation Accuracy: 0.602600\n",
      "Epoch 70, CIFAR-10 Batch 2:  Loss:     0.0577 Validation Accuracy: 0.580400\n",
      "Epoch 70, CIFAR-10 Batch 3:  Loss:     0.0104 Validation Accuracy: 0.602400\n",
      "Epoch 70, CIFAR-10 Batch 4:  Loss:     0.0203 Validation Accuracy: 0.600200\n",
      "Epoch 70, CIFAR-10 Batch 5:  Loss:     0.0491 Validation Accuracy: 0.598400\n",
      "Epoch 71, CIFAR-10 Batch 1:  Loss:     0.0574 Validation Accuracy: 0.599400\n",
      "Epoch 71, CIFAR-10 Batch 2:  Loss:     0.0789 Validation Accuracy: 0.595200\n",
      "Epoch 71, CIFAR-10 Batch 3:  Loss:     0.0461 Validation Accuracy: 0.594200\n",
      "Epoch 71, CIFAR-10 Batch 4:  Loss:     0.0245 Validation Accuracy: 0.599800\n",
      "Epoch 71, CIFAR-10 Batch 5:  Loss:     0.0377 Validation Accuracy: 0.592600\n",
      "Epoch 72, CIFAR-10 Batch 1:  Loss:     0.0353 Validation Accuracy: 0.582000\n",
      "Epoch 72, CIFAR-10 Batch 2:  Loss:     0.0456 Validation Accuracy: 0.595000\n",
      "Epoch 72, CIFAR-10 Batch 3:  Loss:     0.0270 Validation Accuracy: 0.587400\n",
      "Epoch 72, CIFAR-10 Batch 4:  Loss:     0.0230 Validation Accuracy: 0.592400\n",
      "Epoch 72, CIFAR-10 Batch 5:  Loss:     0.0557 Validation Accuracy: 0.580400\n",
      "Epoch 73, CIFAR-10 Batch 1:  Loss:     0.0475 Validation Accuracy: 0.590600\n",
      "Epoch 73, CIFAR-10 Batch 2:  Loss:     0.0553 Validation Accuracy: 0.591200\n",
      "Epoch 73, CIFAR-10 Batch 3:  Loss:     0.0194 Validation Accuracy: 0.584400\n",
      "Epoch 73, CIFAR-10 Batch 4:  Loss:     0.0261 Validation Accuracy: 0.595800\n",
      "Epoch 73, CIFAR-10 Batch 5:  Loss:     0.0480 Validation Accuracy: 0.598200\n",
      "Epoch 74, CIFAR-10 Batch 1:  Loss:     0.0340 Validation Accuracy: 0.591200\n",
      "Epoch 74, CIFAR-10 Batch 2:  Loss:     0.0552 Validation Accuracy: 0.592600\n",
      "Epoch 74, CIFAR-10 Batch 3:  Loss:     0.0241 Validation Accuracy: 0.600400\n",
      "Epoch 74, CIFAR-10 Batch 4:  Loss:     0.0153 Validation Accuracy: 0.603600\n",
      "Epoch 74, CIFAR-10 Batch 5:  Loss:     0.0542 Validation Accuracy: 0.578800\n",
      "Epoch 75, CIFAR-10 Batch 1:  Loss:     0.0426 Validation Accuracy: 0.596200\n",
      "Epoch 75, CIFAR-10 Batch 2:  Loss:     0.0520 Validation Accuracy: 0.587200\n",
      "Epoch 75, CIFAR-10 Batch 3:  Loss:     0.0318 Validation Accuracy: 0.601800\n",
      "Epoch 75, CIFAR-10 Batch 4:  Loss:     0.0220 Validation Accuracy: 0.601600\n",
      "Epoch 75, CIFAR-10 Batch 5:  Loss:     0.0515 Validation Accuracy: 0.583000\n",
      "Epoch 76, CIFAR-10 Batch 1:  Loss:     0.0217 Validation Accuracy: 0.584800\n",
      "Epoch 76, CIFAR-10 Batch 2:  Loss:     0.0532 Validation Accuracy: 0.595600\n",
      "Epoch 76, CIFAR-10 Batch 3:  Loss:     0.0253 Validation Accuracy: 0.590200\n",
      "Epoch 76, CIFAR-10 Batch 4:  Loss:     0.0190 Validation Accuracy: 0.584000\n",
      "Epoch 76, CIFAR-10 Batch 5:  Loss:     0.0449 Validation Accuracy: 0.588600\n",
      "Epoch 77, CIFAR-10 Batch 1:  Loss:     0.0340 Validation Accuracy: 0.586800\n",
      "Epoch 77, CIFAR-10 Batch 2:  Loss:     0.0606 Validation Accuracy: 0.590000\n",
      "Epoch 77, CIFAR-10 Batch 3:  Loss:     0.0269 Validation Accuracy: 0.594200\n",
      "Epoch 77, CIFAR-10 Batch 4:  Loss:     0.0165 Validation Accuracy: 0.593600\n",
      "Epoch 77, CIFAR-10 Batch 5:  Loss:     0.0444 Validation Accuracy: 0.590000\n",
      "Epoch 78, CIFAR-10 Batch 1:  Loss:     0.0224 Validation Accuracy: 0.594400\n",
      "Epoch 78, CIFAR-10 Batch 2:  Loss:     0.0506 Validation Accuracy: 0.592400\n",
      "Epoch 78, CIFAR-10 Batch 3:  Loss:     0.0129 Validation Accuracy: 0.601400\n",
      "Epoch 78, CIFAR-10 Batch 4:  Loss:     0.0154 Validation Accuracy: 0.601000\n",
      "Epoch 78, CIFAR-10 Batch 5:  Loss:     0.0279 Validation Accuracy: 0.588400\n",
      "Epoch 79, CIFAR-10 Batch 1:  Loss:     0.0279 Validation Accuracy: 0.591800\n",
      "Epoch 79, CIFAR-10 Batch 2:  Loss:     0.0456 Validation Accuracy: 0.599600\n",
      "Epoch 79, CIFAR-10 Batch 3:  Loss:     0.0166 Validation Accuracy: 0.601000\n",
      "Epoch 79, CIFAR-10 Batch 4:  Loss:     0.0168 Validation Accuracy: 0.596600\n",
      "Epoch 79, CIFAR-10 Batch 5:  Loss:     0.0393 Validation Accuracy: 0.582200\n",
      "Epoch 80, CIFAR-10 Batch 1:  Loss:     0.0305 Validation Accuracy: 0.594000\n",
      "Epoch 80, CIFAR-10 Batch 2:  Loss:     0.0308 Validation Accuracy: 0.591600\n",
      "Epoch 80, CIFAR-10 Batch 3:  Loss:     0.0131 Validation Accuracy: 0.600400\n",
      "Epoch 80, CIFAR-10 Batch 4:  Loss:     0.0359 Validation Accuracy: 0.587400\n",
      "Epoch 80, CIFAR-10 Batch 5:  Loss:     0.0234 Validation Accuracy: 0.594000\n",
      "Epoch 81, CIFAR-10 Batch 1:  Loss:     0.0338 Validation Accuracy: 0.597000\n",
      "Epoch 81, CIFAR-10 Batch 2:  Loss:     0.0453 Validation Accuracy: 0.602200\n",
      "Epoch 81, CIFAR-10 Batch 3:  Loss:     0.0168 Validation Accuracy: 0.597400\n",
      "Epoch 81, CIFAR-10 Batch 4:  Loss:     0.0148 Validation Accuracy: 0.602600\n",
      "Epoch 81, CIFAR-10 Batch 5:  Loss:     0.0390 Validation Accuracy: 0.579800\n",
      "Epoch 82, CIFAR-10 Batch 1:  Loss:     0.0451 Validation Accuracy: 0.580800\n",
      "Epoch 82, CIFAR-10 Batch 2:  Loss:     0.0564 Validation Accuracy: 0.592800\n",
      "Epoch 82, CIFAR-10 Batch 3:  Loss:     0.0129 Validation Accuracy: 0.607600\n",
      "Epoch 82, CIFAR-10 Batch 4:  Loss:     0.0195 Validation Accuracy: 0.605800\n",
      "Epoch 82, CIFAR-10 Batch 5:  Loss:     0.0267 Validation Accuracy: 0.588000\n",
      "Epoch 83, CIFAR-10 Batch 1:  Loss:     0.0302 Validation Accuracy: 0.590400\n",
      "Epoch 83, CIFAR-10 Batch 2:  Loss:     0.0440 Validation Accuracy: 0.590400\n",
      "Epoch 83, CIFAR-10 Batch 3:  Loss:     0.0074 Validation Accuracy: 0.608400\n",
      "Epoch 83, CIFAR-10 Batch 4:  Loss:     0.0131 Validation Accuracy: 0.610600\n",
      "Epoch 83, CIFAR-10 Batch 5:  Loss:     0.0277 Validation Accuracy: 0.588200\n",
      "Epoch 84, CIFAR-10 Batch 1:  Loss:     0.0339 Validation Accuracy: 0.585200\n",
      "Epoch 84, CIFAR-10 Batch 2:  Loss:     0.0422 Validation Accuracy: 0.597600\n",
      "Epoch 84, CIFAR-10 Batch 3:  Loss:     0.0075 Validation Accuracy: 0.606600\n",
      "Epoch 84, CIFAR-10 Batch 4:  Loss:     0.0082 Validation Accuracy: 0.608000\n",
      "Epoch 84, CIFAR-10 Batch 5:  Loss:     0.0314 Validation Accuracy: 0.599400\n",
      "Epoch 85, CIFAR-10 Batch 1:  Loss:     0.0347 Validation Accuracy: 0.594800\n",
      "Epoch 85, CIFAR-10 Batch 2:  Loss:     0.0428 Validation Accuracy: 0.596400\n",
      "Epoch 85, CIFAR-10 Batch 3:  Loss:     0.0078 Validation Accuracy: 0.604200\n",
      "Epoch 85, CIFAR-10 Batch 4:  Loss:     0.0140 Validation Accuracy: 0.608800\n",
      "Epoch 85, CIFAR-10 Batch 5:  Loss:     0.0367 Validation Accuracy: 0.599600\n",
      "Epoch 86, CIFAR-10 Batch 1:  Loss:     0.0282 Validation Accuracy: 0.585400\n",
      "Epoch 86, CIFAR-10 Batch 2:  Loss:     0.0501 Validation Accuracy: 0.588600\n",
      "Epoch 86, CIFAR-10 Batch 3:  Loss:     0.0081 Validation Accuracy: 0.604400\n",
      "Epoch 86, CIFAR-10 Batch 4:  Loss:     0.0112 Validation Accuracy: 0.604000\n",
      "Epoch 86, CIFAR-10 Batch 5:  Loss:     0.0166 Validation Accuracy: 0.592400\n",
      "Epoch 87, CIFAR-10 Batch 1:  Loss:     0.0164 Validation Accuracy: 0.595200\n",
      "Epoch 87, CIFAR-10 Batch 2:  Loss:     0.0444 Validation Accuracy: 0.592600\n",
      "Epoch 87, CIFAR-10 Batch 3:  Loss:     0.0050 Validation Accuracy: 0.602200\n",
      "Epoch 87, CIFAR-10 Batch 4:  Loss:     0.0127 Validation Accuracy: 0.604000\n",
      "Epoch 87, CIFAR-10 Batch 5:  Loss:     0.0186 Validation Accuracy: 0.595800\n",
      "Epoch 88, CIFAR-10 Batch 1:  Loss:     0.0574 Validation Accuracy: 0.576600\n",
      "Epoch 88, CIFAR-10 Batch 2:  Loss:     0.0507 Validation Accuracy: 0.588800\n",
      "Epoch 88, CIFAR-10 Batch 3:  Loss:     0.0050 Validation Accuracy: 0.604200\n",
      "Epoch 88, CIFAR-10 Batch 4:  Loss:     0.0091 Validation Accuracy: 0.598800\n",
      "Epoch 88, CIFAR-10 Batch 5:  Loss:     0.0242 Validation Accuracy: 0.594800\n",
      "Epoch 89, CIFAR-10 Batch 1:  Loss:     0.0330 Validation Accuracy: 0.594200\n",
      "Epoch 89, CIFAR-10 Batch 2:  Loss:     0.0450 Validation Accuracy: 0.581400\n",
      "Epoch 89, CIFAR-10 Batch 3:  Loss:     0.0117 Validation Accuracy: 0.593800\n",
      "Epoch 89, CIFAR-10 Batch 4:  Loss:     0.0095 Validation Accuracy: 0.597200\n",
      "Epoch 89, CIFAR-10 Batch 5:  Loss:     0.0208 Validation Accuracy: 0.589800\n",
      "Epoch 90, CIFAR-10 Batch 1:  Loss:     0.0275 Validation Accuracy: 0.589000\n",
      "Epoch 90, CIFAR-10 Batch 2:  Loss:     0.0508 Validation Accuracy: 0.589600\n",
      "Epoch 90, CIFAR-10 Batch 3:  Loss:     0.0083 Validation Accuracy: 0.603600\n",
      "Epoch 90, CIFAR-10 Batch 4:  Loss:     0.0099 Validation Accuracy: 0.599400\n",
      "Epoch 90, CIFAR-10 Batch 5:  Loss:     0.0116 Validation Accuracy: 0.594200\n",
      "Epoch 91, CIFAR-10 Batch 1:  Loss:     0.0233 Validation Accuracy: 0.591800\n",
      "Epoch 91, CIFAR-10 Batch 2:  Loss:     0.0340 Validation Accuracy: 0.586800\n",
      "Epoch 91, CIFAR-10 Batch 3:  Loss:     0.0034 Validation Accuracy: 0.605800\n",
      "Epoch 91, CIFAR-10 Batch 4:  Loss:     0.0090 Validation Accuracy: 0.604800\n",
      "Epoch 91, CIFAR-10 Batch 5:  Loss:     0.0231 Validation Accuracy: 0.595200\n",
      "Epoch 92, CIFAR-10 Batch 1:  Loss:     0.0116 Validation Accuracy: 0.593800\n",
      "Epoch 92, CIFAR-10 Batch 2:  Loss:     0.0356 Validation Accuracy: 0.598200\n",
      "Epoch 92, CIFAR-10 Batch 3:  Loss:     0.0018 Validation Accuracy: 0.604600\n",
      "Epoch 92, CIFAR-10 Batch 4:  Loss:     0.0109 Validation Accuracy: 0.604000\n",
      "Epoch 92, CIFAR-10 Batch 5:  Loss:     0.0215 Validation Accuracy: 0.591400\n",
      "Epoch 93, CIFAR-10 Batch 1:  Loss:     0.0270 Validation Accuracy: 0.582400\n",
      "Epoch 93, CIFAR-10 Batch 2:  Loss:     0.0611 Validation Accuracy: 0.581600\n",
      "Epoch 93, CIFAR-10 Batch 3:  Loss:     0.0012 Validation Accuracy: 0.603600\n",
      "Epoch 93, CIFAR-10 Batch 4:  Loss:     0.0092 Validation Accuracy: 0.600600\n",
      "Epoch 93, CIFAR-10 Batch 5:  Loss:     0.0115 Validation Accuracy: 0.593000\n",
      "Epoch 94, CIFAR-10 Batch 1:  Loss:     0.0191 Validation Accuracy: 0.600400\n",
      "Epoch 94, CIFAR-10 Batch 2:  Loss:     0.0494 Validation Accuracy: 0.580000\n",
      "Epoch 94, CIFAR-10 Batch 3:  Loss:     0.0033 Validation Accuracy: 0.591000\n",
      "Epoch 94, CIFAR-10 Batch 4:  Loss:     0.0090 Validation Accuracy: 0.596000\n",
      "Epoch 94, CIFAR-10 Batch 5:  Loss:     0.0054 Validation Accuracy: 0.592600\n",
      "Epoch 95, CIFAR-10 Batch 1:  Loss:     0.0109 Validation Accuracy: 0.595600\n",
      "Epoch 95, CIFAR-10 Batch 2:  Loss:     0.0445 Validation Accuracy: 0.583200\n",
      "Epoch 95, CIFAR-10 Batch 3:  Loss:     0.0051 Validation Accuracy: 0.598600\n",
      "Epoch 95, CIFAR-10 Batch 4:  Loss:     0.0062 Validation Accuracy: 0.594400\n",
      "Epoch 95, CIFAR-10 Batch 5:  Loss:     0.0103 Validation Accuracy: 0.599800\n",
      "Epoch 96, CIFAR-10 Batch 1:  Loss:     0.0355 Validation Accuracy: 0.598600\n",
      "Epoch 96, CIFAR-10 Batch 2:  Loss:     0.0222 Validation Accuracy: 0.590600\n",
      "Epoch 96, CIFAR-10 Batch 3:  Loss:     0.0068 Validation Accuracy: 0.596800\n",
      "Epoch 96, CIFAR-10 Batch 4:  Loss:     0.0121 Validation Accuracy: 0.599000\n",
      "Epoch 96, CIFAR-10 Batch 5:  Loss:     0.0066 Validation Accuracy: 0.594200\n",
      "Epoch 97, CIFAR-10 Batch 1:  Loss:     0.0434 Validation Accuracy: 0.603400\n",
      "Epoch 97, CIFAR-10 Batch 2:  Loss:     0.0250 Validation Accuracy: 0.583600\n",
      "Epoch 97, CIFAR-10 Batch 3:  Loss:     0.0042 Validation Accuracy: 0.605200\n",
      "Epoch 97, CIFAR-10 Batch 4:  Loss:     0.0061 Validation Accuracy: 0.589600\n",
      "Epoch 97, CIFAR-10 Batch 5:  Loss:     0.0117 Validation Accuracy: 0.594800\n",
      "Epoch 98, CIFAR-10 Batch 1:  Loss:     0.0200 Validation Accuracy: 0.606600\n",
      "Epoch 98, CIFAR-10 Batch 2:  Loss:     0.0217 Validation Accuracy: 0.589800\n",
      "Epoch 98, CIFAR-10 Batch 3:  Loss:     0.0036 Validation Accuracy: 0.605400\n",
      "Epoch 98, CIFAR-10 Batch 4:  Loss:     0.0082 Validation Accuracy: 0.590200\n",
      "Epoch 98, CIFAR-10 Batch 5:  Loss:     0.0138 Validation Accuracy: 0.593000\n",
      "Epoch 99, CIFAR-10 Batch 1:  Loss:     0.0132 Validation Accuracy: 0.606200\n",
      "Epoch 99, CIFAR-10 Batch 2:  Loss:     0.0174 Validation Accuracy: 0.597600\n",
      "Epoch 99, CIFAR-10 Batch 3:  Loss:     0.0006 Validation Accuracy: 0.609000\n",
      "Epoch 99, CIFAR-10 Batch 4:  Loss:     0.0052 Validation Accuracy: 0.597600\n",
      "Epoch 99, CIFAR-10 Batch 5:  Loss:     0.0125 Validation Accuracy: 0.600400\n",
      "Epoch 100, CIFAR-10 Batch 1:  Loss:     0.0181 Validation Accuracy: 0.598400\n",
      "Epoch 100, CIFAR-10 Batch 2:  Loss:     0.0192 Validation Accuracy: 0.596000\n",
      "Epoch 100, CIFAR-10 Batch 3:  Loss:     0.0018 Validation Accuracy: 0.600600\n",
      "Epoch 100, CIFAR-10 Batch 4:  Loss:     0.0055 Validation Accuracy: 0.575600\n",
      "Epoch 100, CIFAR-10 Batch 5:  Loss:     0.0152 Validation Accuracy: 0.585400\n"
     ]
    }
   ],
   "source": [
    "\"\"\"\n",
    "DON'T MODIFY ANYTHING IN THIS CELL\n",
    "\"\"\"\n",
    "save_model_path = './image_classification'\n",
    "\n",
    "print('Training...')\n",
    "with tf.Session() as sess:\n",
    "    # Initializing the variables\n",
    "    sess.run(tf.global_variables_initializer())\n",
    "    \n",
    "    # Training cycle\n",
    "    for epoch in range(epochs):\n",
    "        # Loop over all batches\n",
    "        n_batches = 5\n",
    "        for batch_i in range(1, n_batches + 1):\n",
    "            for batch_features, batch_labels in helper.load_preprocess_training_batch(batch_i, batch_size):\n",
    "                train_neural_network(sess, optimizer, keep_probability, batch_features, batch_labels)\n",
    "            print('Epoch {:>2}, CIFAR-10 Batch {}:  '.format(epoch + 1, batch_i), end='')\n",
    "            print_stats(sess, batch_features, batch_labels, cost, accuracy)\n",
    "            \n",
    "    # Save Model\n",
    "    saver = tf.train.Saver()\n",
    "    save_path = saver.save(sess, save_model_path)"
   ]
  },
  {
   "cell_type": "markdown",
   "metadata": {
    "deletable": true,
    "editable": true
   },
   "source": [
    "# Checkpoint\n",
    "The model has been saved to disk.\n",
    "## Test Model\n",
    "Test your model against the test dataset.  This will be your final accuracy. You should have an accuracy greater than 50%. If you don't, keep tweaking the model architecture and parameters."
   ]
  },
  {
   "cell_type": "code",
   "execution_count": 57,
   "metadata": {
    "collapsed": false,
    "deletable": true,
    "editable": true
   },
   "outputs": [
    {
     "name": "stdout",
     "output_type": "stream",
     "text": [
      "Testing Accuracy: 0.57587890625\n",
      "\n"
     ]
    },
    {
     "data": {
      "image/png": "[encoded data removed]",
      "text/plain": [
       "<matplotlib.figure.Figure at 0x7f75f6488400>"
      ]
     },
     "metadata": {
      "image/png": {
       "height": 319,
       "width": 355
      }
     },
     "output_type": "display_data"
    }
   ],
   "source": [
    "\"\"\"\n",
    "DON'T MODIFY ANYTHING IN THIS CELL\n",
    "\"\"\"\n",
    "%matplotlib inline\n",
    "%config InlineBackend.figure_format = 'retina'\n",
    "\n",
    "import tensorflow as tf\n",
    "import pickle\n",
    "import helper\n",
    "import random\n",
    "\n",
    "# Set batch size if not already set\n",
    "try:\n",
    "    if batch_size:\n",
    "        pass\n",
    "except NameError:\n",
    "    batch_size = 64\n",
    "\n",
    "save_model_path = './image_classification'\n",
    "n_samples = 4\n",
    "top_n_predictions = 3\n",
    "\n",
    "def test_model():\n",
    "    \"\"\"\n",
    "    Test the saved model against the test dataset\n",
    "    \"\"\"\n",
    "\n",
    "    test_features, test_labels = pickle.load(open('preprocess_test.p', mode='rb'))\n",
    "    loaded_graph = tf.Graph()\n",
    "\n",
    "    with tf.Session(graph=loaded_graph) as sess:\n",
    "        # Load model\n",
    "        loader = tf.train.import_meta_graph(save_model_path + '.meta')\n",
    "        loader.restore(sess, save_model_path)\n",
    "\n",
    "        # Get Tensors from loaded model\n",
    "        loaded_x = loaded_graph.get_tensor_by_name('x:0')\n",
    "        loaded_y = loaded_graph.get_tensor_by_name('y:0')\n",
    "        loaded_keep_prob = loaded_graph.get_tensor_by_name('keep_prob:0')\n",
    "        loaded_logits = loaded_graph.get_tensor_by_name('logits:0')\n",
    "        loaded_acc = loaded_graph.get_tensor_by_name('accuracy:0')\n",
    "        \n",
    "        # Get accuracy in batches for memory limitations\n",
    "        test_batch_acc_total = 0\n",
    "        test_batch_count = 0\n",
    "        \n",
    "        for test_feature_batch, test_label_batch in helper.batch_features_labels(test_features, test_labels, batch_size):\n",
    "            test_batch_acc_total += sess.run(\n",
    "                loaded_acc,\n",
    "                feed_dict={loaded_x: test_feature_batch, loaded_y: test_label_batch, loaded_keep_prob: 1.0})\n",
    "            test_batch_count += 1\n",
    "\n",
    "        print('Testing Accuracy: {}\\n'.format(test_batch_acc_total/test_batch_count))\n",
    "\n",
    "        # Print Random Samples\n",
    "        random_test_features, random_test_labels = tuple(zip(*random.sample(list(zip(test_features, test_labels)), n_samples)))\n",
    "        random_test_predictions = sess.run(\n",
    "            tf.nn.top_k(tf.nn.softmax(loaded_logits), top_n_predictions),\n",
    "            feed_dict={loaded_x: random_test_features, loaded_y: random_test_labels, loaded_keep_prob: 1.0})\n",
    "        helper.display_image_predictions(random_test_features, random_test_labels, random_test_predictions)\n",
    "\n",
    "\n",
    "test_model()"
   ]
  },
  {
   "cell_type": "markdown",
   "metadata": {
    "deletable": true,
    "editable": true
   },
   "source": [
    "## Why 50-80% Accuracy?\n",
    "You might be wondering why you can't get an accuracy any higher. First things first, 50% isn't bad for a simple CNN.  Pure guessing would get you 10% accuracy. However, you might notice people are getting scores [well above 80%](http://rodrigob.github.io/are_we_there_yet/build/classification_datasets_results.html#43494641522d3130).  That's because we haven't taught you all there is to know about neural networks. We still need to cover a few more techniques.\n",
    "## Submitting This Project\n",
    "When submitting this project, make sure to run all the cells before saving the notebook.  Save the notebook file as \"dlnd_image_classification.ipynb\" and save it as a HTML file under \"File\" -> \"Download as\".  Include the \"helper.py\" and \"problem_unittests.py\" files in your submission."
   ]
  }
 ],
 "metadata": {
  "kernelspec": {
   "display_name": "Python [default]",
   "language": "python",
   "name": "python3"
  },
  "language_info": {
   "codemirror_mode": {
    "name": "ipython",
    "version": 3
   },
   "file_extension": ".py",
   "mimetype": "text/x-python",
   "name": "python",
   "nbconvert_exporter": "python",
   "pygments_lexer": "ipython3",
   "version": "3.5.2"
  }
 },
 "nbformat": 4,
 "nbformat_minor": 0
}
